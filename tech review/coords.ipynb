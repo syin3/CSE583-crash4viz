{
 "cells": [
  {
   "cell_type": "code",
   "execution_count": 1,
   "metadata": {
    "ExecuteTime": {
     "end_time": "2019-11-04T23:47:56.472826Z",
     "start_time": "2019-11-04T23:47:54.667171Z"
    },
    "slideshow": {
     "slide_type": "skip"
    }
   },
   "outputs": [],
   "source": [
    "import pandas as pd\n",
    "import folium\n",
    "import folium.plugins\n",
    "import warnings\n",
    "import numpy as np\n",
    "warnings.filterwarnings('ignore')\n",
    "from matplotlib import pyplot as plt\n",
    "from matplotlib.pyplot import rc"
   ]
  },
  {
   "cell_type": "markdown",
   "metadata": {
    "nbpresent": {
     "id": "6e88ee8d-372d-445c-8b4d-bdcb28393a0b"
    },
    "slideshow": {
     "slide_type": "slide"
    }
   },
   "source": [
    "# WA Crash Viz and Analysis\n",
    "### By Katharine Chen, Tianqi Fang, Yutong Liu, Shuyi Yin"
   ]
  },
  {
   "cell_type": "markdown",
   "metadata": {
    "slideshow": {
     "slide_type": "slide"
    }
   },
   "source": [
    "## Problem Background"
   ]
  },
  {
   "cell_type": "markdown",
   "metadata": {
    "nbpresent": {
     "id": "a40bfb3e-6e54-4149-ab8e-8e0ee3d33d26"
    },
    "slideshow": {
     "slide_type": "fragment"
    }
   },
   "source": [
    "+ A broad variety of factors (environmental, physical, etc) contribute to a road’s overall safety;<br>\n",
    "+ Professional and non-professional users all need user-friendly interfaces to efficiently query and analyze data;"
   ]
  },
  {
   "cell_type": "markdown",
   "metadata": {
    "slideshow": {
     "slide_type": "subslide"
    }
   },
   "source": [
    "## Our solution"
   ]
  },
  {
   "cell_type": "markdown",
   "metadata": {
    "slideshow": {
     "slide_type": "fragment"
    }
   },
   "source": [
    "Ideally, we want to develop a **website** that:\n",
    "+ let all users select filters of **time, weather, road, vehicle, pedestrian, etc**;\n",
    "+ let average drivers view past accidents on their planned routes and pop-up info;\n",
    "+ let semi-professional users obtain reports on selected data and view factor contribution bar plots;\n",
    "+ let professional users (who can code) have the option to further connect with and develop on the platform;"
   ]
  },
  {
   "cell_type": "markdown",
   "metadata": {
    "slideshow": {
     "slide_type": "subslide"
    }
   },
   "source": [
    "## Data Sets"
   ]
  },
  {
   "cell_type": "markdown",
   "metadata": {
    "slideshow": {
     "slide_type": "fragment"
    }
   },
   "source": [
    "Highway Safety Information System (HSIS)"
   ]
  },
  {
   "cell_type": "markdown",
   "metadata": {
    "slideshow": {
     "slide_type": "slide"
    }
   },
   "source": [
    "## Use case"
   ]
  },
  {
   "cell_type": "markdown",
   "metadata": {
    "slideshow": {
     "slide_type": "fragment"
    }
   },
   "source": [
    "+ Average driver may consult the map and analysis report before travel;<br>\n",
    "+ DOT planners, police officers and other professionals may look deeper into contributing factors;<br>\n",
    "+ They are all **non-programmers** and thus need an interactive environment that visualize past accidents and tell them what factors contribute most to crashes;<br>\n",
    "+ ***Rainy day, steep downhill curved road, old car, little traffic, young driver;***"
   ]
  },
  {
   "cell_type": "markdown",
   "metadata": {
    "slideshow": {
     "slide_type": "slide"
    }
   },
   "source": [
    "## Python Libraries:\n",
    "+ Folium;\n",
    "+ Bokeh;"
   ]
  },
  {
   "cell_type": "markdown",
   "metadata": {
    "nbpresent": {
     "id": "25b29645-8b9e-4bde-87ed-866c6b9bfac9"
    },
    "slideshow": {
     "slide_type": "slide"
    }
   },
   "source": [
    "## Data cleaning"
   ]
  },
  {
   "cell_type": "code",
   "execution_count": null,
   "metadata": {
    "ExecuteTime": {
     "end_time": "2019-11-04T01:42:01.272217Z",
     "start_time": "2019-11-04T01:42:01.266251Z"
    },
    "nbpresent": {
     "id": "6156f31e-28f4-4da1-bd57-e82c7a2fbc50"
    },
    "slideshow": {
     "slide_type": "skip"
    }
   },
   "outputs": [],
   "source": [
    "def clean(source, sink):\n",
    "    df = pd.read_csv(source)\n",
    "    df = df.dropna()\n",
    "    df.to_csv(sink)\n",
    "    pass"
   ]
  },
  {
   "cell_type": "code",
   "execution_count": null,
   "metadata": {
    "nbpresent": {
     "id": "101be67f-a6e2-4853-8a04-0772237b136b"
    },
    "slideshow": {
     "slide_type": "skip"
    }
   },
   "outputs": [],
   "source": [
    "# use case:\n",
    "clean(\"coords.csv\", \"coords_cleaned.csv\")"
   ]
  },
  {
   "cell_type": "markdown",
   "metadata": {
    "nbpresent": {
     "id": "a9e26218-501f-473d-8c67-deb67385a21a"
    },
    "slideshow": {
     "slide_type": "fragment"
    }
   },
   "source": [
    "### Load and wrangle dataset with Pandas"
   ]
  },
  {
   "cell_type": "code",
   "execution_count": 2,
   "metadata": {
    "ExecuteTime": {
     "end_time": "2019-11-04T23:48:00.743347Z",
     "start_time": "2019-11-04T23:48:00.737528Z"
    },
    "nbpresent": {
     "id": "80229835-5669-4aaa-a214-221960a41c74"
    },
    "slideshow": {
     "slide_type": "skip"
    }
   },
   "outputs": [],
   "source": [
    "def readCleanLoc(source):\n",
    "    '''\n",
    "    @param source: cleaned csv file of lat/lons\n",
    "    @use case: df_cleaned = readLoc(\"coords_gps.csv\")\n",
    "    '''\n",
    "    # read from file\n",
    "    df_cleaned = pd.read_csv(source)\n",
    "    \n",
    "    # change column name\n",
    "    df_cleaned.columns = ['lat', 'lon']\n",
    "    \n",
    "    # assert no nan after cleaning\n",
    "    assert not df_cleaned.isnull().values.any()\n",
    "    return df_cleaned"
   ]
  },
  {
   "cell_type": "code",
   "execution_count": 3,
   "metadata": {
    "ExecuteTime": {
     "end_time": "2019-11-04T23:48:01.132974Z",
     "start_time": "2019-11-04T23:48:01.122473Z"
    },
    "nbpresent": {
     "id": "003929bc-21ab-4c5c-a567-39ae6bbb1e39"
    },
    "slideshow": {
     "slide_type": "skip"
    }
   },
   "outputs": [],
   "source": [
    "def readOrig(origSource, cleanLocSource):\n",
    "    '''\n",
    "    @param origSource: original dataset file\n",
    "    @param cleanLocSource: cleaned lat/lon file\n",
    "    @use case: df = readOrig(\"WA_Rural_St_RtesCrashes_Full.csv\")\n",
    "    '''\n",
    "\n",
    "    # read\n",
    "    df = pd.read_csv(origSource)\n",
    "    \n",
    "    # select columns\n",
    "    columns = ['DATE',\n",
    "               'PRIMARY TRAFFICWAY',\n",
    "               'MILEPOST',\n",
    "               '# INJ',\n",
    "               '# FAT',\n",
    "               'WA STATE PLANE SOUTH - X 2010 - FORWARD',\n",
    "               'WA STATE PLANE SOUTH - Y 2010 - FORWARD']\n",
    "    df = df[columns]\n",
    "    \n",
    "    # drop rows that have nan in defined columns\n",
    "    df = df.dropna(subset=['WA STATE PLANE SOUTH - X 2010 - FORWARD',\n",
    "                      'WA STATE PLANE SOUTH - Y 2010 - FORWARD'])\n",
    "    \n",
    "    # must collapse index\n",
    "    df = df.reset_index(drop=True)\n",
    "    \n",
    "    # transform time\n",
    "    df['date'] = pd.to_datetime(df['DATE'])\n",
    "    df['year'] = df['date'].dt.year\n",
    "    \n",
    "    columns = ['PRIMARY TRAFFICWAY',\n",
    "               'MILEPOST',\n",
    "               '# INJ',\n",
    "               '# FAT',\n",
    "               'WA STATE PLANE SOUTH - X 2010 - FORWARD',\n",
    "               'WA STATE PLANE SOUTH - Y 2010 - FORWARD',\n",
    "               'year']\n",
    "    df = df[columns]\n",
    "    \n",
    "    # change columns name\n",
    "    df.columns = ['PRIMARY TRAFFICWAY',\n",
    "                  'MILEPOST',\n",
    "                  '# INJ',\n",
    "                  '# FAT',\n",
    "                  'lat',\n",
    "                  'lon',\n",
    "                  'year']\n",
    "    \n",
    "    # update lat lon\n",
    "    df_cleaned = readCleanLoc(cleanLocSource)\n",
    "    df.lat = df_cleaned.lat\n",
    "    df.lon = df_cleaned.lon\n",
    "    \n",
    "    # assert no nan\n",
    "    assert not df.isnull().values.any()\n",
    "    assert not df_cleaned.isnull().values.any()\n",
    "\n",
    "    return df"
   ]
  },
  {
   "cell_type": "markdown",
   "metadata": {
    "slideshow": {
     "slide_type": "slide"
    }
   },
   "source": [
    "## Folium simple example"
   ]
  },
  {
   "cell_type": "code",
   "execution_count": 4,
   "metadata": {
    "ExecuteTime": {
     "end_time": "2019-11-04T23:48:03.623788Z",
     "start_time": "2019-11-04T23:48:03.557381Z"
    },
    "nbpresent": {
     "id": "d555cbde-25f8-4e84-8be6-2c924ee7311e"
    },
    "slideshow": {
     "slide_type": "skip"
    }
   },
   "outputs": [],
   "source": [
    "def plotFolium(origFile, cleanLoc, mapSink, start, end):\n",
    "    '''\n",
    "    @param origFile: original dataset file\n",
    "    @param cleanLoc: cleaned lat/lon file\n",
    "    @param mapSink: saving destination of generated map\n",
    "    '''\n",
    "\n",
    "    # read data\n",
    "    df = readOrig(origFile, cleanLoc)\n",
    "    \n",
    "    # create map object\n",
    "    accWA = folium.Map([df.lat.median(), df.lon.median()],\n",
    "                   # tiles=\"cartodbpositron\",\n",
    "                   tiles = '',\n",
    "                   # width='80%',\n",
    "                   # height='80%',\n",
    "                   prefer_canvas=True,\n",
    "                   zoom_start=8)\n",
    "    # add tile layer\n",
    "    folium.TileLayer('cartodbpositron', name = 'bright').add_to(accWA)\n",
    "    folium.TileLayer('CartoDB dark_matter', name = 'dark').add_to(accWA)\n",
    "    \n",
    "    # create crash layer\n",
    "    crashes = []\n",
    "    clusters = []\n",
    "    for year in range(start, end + 1):\n",
    "        \n",
    "        # create cluster layer\n",
    "        yrClust = folium.FeatureGroup(name=str(year) + '_Clusters', show=False)\n",
    "        clusters.append(yrClust)\n",
    "        accWA.add_child(clusters[-1])\n",
    "\n",
    "        # add cluster layer to feature group\n",
    "        marClst = folium.plugins.FastMarkerCluster(\n",
    "            data=list(zip(df[df['year'] == year]['lat'].values, df[df['year'] == year]['lon'].values))\n",
    "        ).add_to(clusters[-1])\n",
    "        \n",
    "        # individual crashes\n",
    "        yrCrash = folium.FeatureGroup(name=str(year) + '_Crashes', show=False)\n",
    "        crashes.append(yrCrash)\n",
    "        accWA.add_child(crashes[-1])\n",
    "        \n",
    "        # add crashe events to their layers\n",
    "        for _, row in df[df['year'] == year].iterrows():\n",
    "            \n",
    "            # define circle color\n",
    "            if row['# INJ'] > 0:\n",
    "                cirlColor = \"#007849\" \n",
    "            elif row['# FAT'] > 0: \n",
    "                cirlColor = 'red'\n",
    "            else:\n",
    "                cirlColor = 'steelblue'\n",
    "            \n",
    "            # define circle radius\n",
    "            if row['# INJ'] + row['# FAT'] > 0:\n",
    "                cirlRadius = max(row['# INJ'], row['# FAT']) * 3\n",
    "            else:\n",
    "                cirlRadius = 1\n",
    "            \n",
    "            folium.CircleMarker([row['lat'], row['lon']],\n",
    "                                radius=cirlRadius,\n",
    "                                popup=folium.Popup(\"INJ: {}, FAT: {}\".format(\n",
    "                                row['# INJ'], row['# FAT']), max_width=150),\n",
    "                                # fill_color=\"#3db7e4\",\n",
    "                                # color=cirlColor,\n",
    "                                weight = 0.2,\n",
    "                                fill_color=cirlColor,\n",
    "                                fill=True,\n",
    "                                fill_opacity=0.4\n",
    "                         ).add_to(crashes[-1])\n",
    "    \n",
    "        \n",
    "\n",
    "    # add layer control\n",
    "    folium.LayerControl().add_to(accWA)\n",
    "            \n",
    "    # save map\n",
    "    accWA.save(mapSink)\n",
    "    \n",
    "    return accWA"
   ]
  },
  {
   "cell_type": "markdown",
   "metadata": {
    "slideshow": {
     "slide_type": "skip"
    }
   },
   "source": [
    "Do not excecute the following cell"
   ]
  },
  {
   "cell_type": "code",
   "execution_count": null,
   "metadata": {
    "slideshow": {
     "slide_type": "fragment"
    }
   },
   "outputs": [],
   "source": [
    "# add layers of crashes by year\n",
    "for year in ...:\n",
    "    yrCrash = folium.FeatureGroup(name=str(year) + '_Crashes', show=False)\n",
    "    crashes.append(yrCrash)\n",
    "    accWA.add_child(crashes[-1])"
   ]
  },
  {
   "cell_type": "code",
   "execution_count": null,
   "metadata": {
    "slideshow": {
     "slide_type": "fragment"
    }
   },
   "outputs": [],
   "source": [
    "# plot the individual events\n",
    "for year in ...:\n",
    "    \n",
    "    # iterate in a loop\n",
    "    for _, row in df[df['year'] == year].iterrows():\n",
    "        \n",
    "        ...\n",
    "        \n",
    "        folium.CircleMarker([row['lat'], row['lon']],\n",
    "                            radius=cirlRadius,\n",
    "                            popup=folium.Popup(\"INJ: {}, FAT: {}\".format(\n",
    "                            row['# INJ'], row['# FAT']), max_width=150),\n",
    "                            weight = 0.2,\n",
    "                            fill_color=cirlColor,\n",
    "                            fill=True,\n",
    "                            fill_opacity=0.4\n",
    "                     ).add_to(crashes[-1])\n",
    "        # events are added to its corresponding layer by Year"
   ]
  },
  {
   "cell_type": "code",
   "execution_count": 5,
   "metadata": {
    "ExecuteTime": {
     "end_time": "2019-11-04T23:49:27.482973Z",
     "start_time": "2019-11-04T23:48:08.514029Z"
    },
    "nbpresent": {
     "id": "e1253ac3-d93b-4f27-80d9-a63053baf967"
    },
    "slideshow": {
     "slide_type": "subslide"
    }
   },
   "outputs": [],
   "source": [
    "_ = plotFolium(\"WA_Rural_St_RtesCrashes_Full.csv\",\n",
    "            \"coords_gps.csv\",\n",
    "            \"folium_year.html\",\n",
    "            2014, 2017)"
   ]
  },
  {
   "cell_type": "markdown",
   "metadata": {
    "slideshow": {
     "slide_type": "fragment"
    }
   },
   "source": [
    "##### View the Crashes By Year plot [here](https://syin3.github.io/WA-Crash-Viz-and-Analysis/technology%20review/plots/folium_year.html);<br>\n",
    "##### View the Crashes Injuries By County plot [here](https://syin3.github.io/WA-Crash-Viz-and-Analysis/technology%20review/plots/folium_injuries_fats_by_county.html);<br>\n",
    "##### View the Crashes Fatalities By County plot [here](https://syin3.github.io/WA-Crash-Viz-and-Analysis/technology%20review/plots/folium_fats_by_county.html);<br>"
   ]
  },
  {
   "cell_type": "markdown",
   "metadata": {
    "slideshow": {
     "slide_type": "slide"
    }
   },
   "source": [
    "## Bokeh simple example"
   ]
  },
  {
   "cell_type": "code",
   "execution_count": 6,
   "metadata": {
    "ExecuteTime": {
     "end_time": "2019-11-04T23:49:27.505796Z",
     "start_time": "2019-11-04T23:49:27.485692Z"
    },
    "slideshow": {
     "slide_type": "skip"
    }
   },
   "outputs": [],
   "source": [
    "def plotBokeh(origFile, cleanLoc, mapSink, start, end):\n",
    "    \n",
    "    # import local modules\n",
    "    import math\n",
    "    from bokeh.io import show\n",
    "    from bokeh.palettes import brewer\n",
    "    from bokeh.models import ColumnDataSource\n",
    "    from bokeh.plotting import figure, output_file, save\n",
    "    from bokeh.tile_providers import get_provider, Vendors\n",
    "    \n",
    "    # def coordinate conversion\n",
    "    def merc(coords):\n",
    "        lat = coords[0]\n",
    "        lon = coords[1]\n",
    "\n",
    "        r_major = 6378137.000\n",
    "        x = r_major * math.radians(lon)\n",
    "        scale = x/lon\n",
    "        y = 180.0/math.pi * math.log(math.tan(math.pi/4.0 + \n",
    "            lat * (math.pi/180.0)/2.0)) * scale\n",
    "        return (x, y)\n",
    "    \n",
    "    \n",
    "    \n",
    "    # read data\n",
    "    df = readOrig(origFile, cleanLoc)\n",
    "    \n",
    "    for year in range(start, end + 1):\n",
    "        output_file(\"bokeh_year_{}.html\".format(year))\n",
    "        tile_provider = get_provider(Vendors.CARTODBPOSITRON)\n",
    "\n",
    "        cirlColor = []\n",
    "        cirlRadius = []\n",
    "        for _, row in df[df['year'] == year].iterrows():\n",
    "            # define circle color\n",
    "            if row['# INJ'] > 0:\n",
    "                cirlColor.append(\"#007849\" )\n",
    "            elif row['# FAT'] > 0: \n",
    "                cirlColor.append('red')\n",
    "            else:\n",
    "                cirlColor.append('steelblue')\n",
    "\n",
    "            # define circle radius\n",
    "            if row['# INJ'] + row['# FAT'] > 0:\n",
    "                cirlRadius.append(max(row['# INJ'], row['# FAT']) * 3)\n",
    "            else:\n",
    "                cirlRadius.append(1)\n",
    "\n",
    "\n",
    "        # range bounds supplied in web mercator coordinates\n",
    "        p = figure(#x_range=(-14000000, -12800000), y_range=(5900000, 6100000),\n",
    "                   x_axis_type=\"mercator\", y_axis_type=\"mercator\",\n",
    "                   plot_width = 1600, plot_height = 1200, title = '{} crashes'.format(year))\n",
    "        p.add_tile(tile_provider)\n",
    "        p.sizing_mode = 'stretch_both'\n",
    "\n",
    "        z = map(merc, df[df['year'] == year][['lat','lon']].values)\n",
    "        z = list(z)\n",
    "\n",
    "        coords_x = [x[0] for x in z]\n",
    "        coords_y = [x[1] for x in z]\n",
    "\n",
    "        # p = figure(plot_width=400, plot_height=400)\n",
    "        p.circle(x=coords_x, y=coords_y, color=cirlColor, fill_alpha=0.8, size=cirlRadius)\n",
    "        \n",
    "        p.yaxis.axis_label = \"Latitude\"\n",
    "        p.yaxis.axis_label_text_font_size = '20pt'\n",
    "        p.yaxis.major_label_text_font_size = '20pt'\n",
    "        \n",
    "        p.xaxis.axis_label = \"Longitude\"\n",
    "        p.xaxis.axis_label_text_font_size = '20pt'\n",
    "        p.xaxis.major_label_text_font_size = '20pt'\n",
    "        # p.yaxis.axis_label_text_font = \"times\"\n",
    "        # p.yaxis.axis_label_text_color = \"black\"\n",
    "        save(p)\n",
    "\n",
    "    pass"
   ]
  },
  {
   "cell_type": "markdown",
   "metadata": {
    "slideshow": {
     "slide_type": "skip"
    }
   },
   "source": [
    "Do not execute the following cell"
   ]
  },
  {
   "cell_type": "code",
   "execution_count": 7,
   "metadata": {
    "ExecuteTime": {
     "end_time": "2019-11-04T23:49:27.515763Z",
     "start_time": "2019-11-04T23:49:27.509601Z"
    },
    "slideshow": {
     "slide_type": "fragment"
    }
   },
   "outputs": [],
   "source": [
    "# convert lat/lon to mercator coordinates\n",
    "def merc(coords):\n",
    "    lat = coords[0]\n",
    "    lon = coords[1]\n",
    "\n",
    "    r_major = 6378137.000\n",
    "    x = r_major * math.radians(lon)\n",
    "    scale = x/lon\n",
    "    y = 180.0/math.pi * math.log(math.tan(math.pi/4.0 + \n",
    "        lat * (math.pi/180.0)/2.0)) * scale\n",
    "    return (x, y)"
   ]
  },
  {
   "cell_type": "code",
   "execution_count": null,
   "metadata": {
    "ExecuteTime": {
     "end_time": "2019-11-04T06:27:52.231736Z",
     "start_time": "2019-11-04T06:27:52.018639Z"
    },
    "slideshow": {
     "slide_type": "fragment"
    }
   },
   "outputs": [],
   "source": [
    "# here we are not creating layers, but HTML files\n",
    "for year in ...:\n",
    "    p = figure(x_axis_type=\"mercator\", y_axis_type=\"mercator\",\n",
    "               plot_width = 1600, plot_height = 1200, title = str(year))\n",
    "    p.add_tile(tile_provider)\n",
    "\n",
    "    z = map(merc, df[df['year'] == year][['lat','lon']].values)\n",
    "    z = list(z)\n",
    "\n",
    "    coords_x = [x[0] for x in z]\n",
    "    coords_y = [x[1] for x in z]\n",
    "\n",
    "    # plot in batch, instead of in loops\n",
    "    p.circle(x=coords_x, y=coords_y, color=cirlColor, fill_alpha=0.8, size=cirlRadius)"
   ]
  },
  {
   "cell_type": "code",
   "execution_count": 8,
   "metadata": {
    "ExecuteTime": {
     "end_time": "2019-11-04T23:49:38.113144Z",
     "start_time": "2019-11-04T23:49:27.519940Z"
    },
    "slideshow": {
     "slide_type": "subslide"
    }
   },
   "outputs": [],
   "source": [
    "plotBokeh(\"WA_Rural_St_RtesCrashes_Full.csv\",\n",
    "            \"coords_gps.csv\",\n",
    "            \"folium_year.html\",\n",
    "            2014, 2017)"
   ]
  },
  {
   "cell_type": "markdown",
   "metadata": {
    "slideshow": {
     "slide_type": "fragment"
    }
   },
   "source": [
    "##### View the Crashes of Year 2016 plot [here](https://syin3.github.io/WA-Crash-Viz-and-Analysis/technology%20review/plots/bokeh_year_2016.html);<br>\n",
    "##### View the Crashes of Year 2017 plot [here](https://syin3.github.io/WA-Crash-Viz-and-Analysis/technology%20review/plots/bokeh_year_2017.html);"
   ]
  },
  {
   "cell_type": "markdown",
   "metadata": {
    "slideshow": {
     "slide_type": "slide"
    }
   },
   "source": [
    "## Comparison of Folium vs. Bokeh vs. Matplotlib\n",
    "+ Demonstrate in a table"
   ]
  },
  {
   "cell_type": "code",
   "execution_count": null,
   "metadata": {
    "ExecuteTime": {
     "end_time": "2019-11-04T23:46:45.496566Z",
     "start_time": "2019-11-04T23:46:45.489276Z"
    },
    "slideshow": {
     "slide_type": "skip"
    }
   },
   "outputs": [],
   "source": [
    "%%html\n",
    "<style>\n",
    "table {float:left}\n",
    "</style> "
   ]
  },
  {
   "cell_type": "markdown",
   "metadata": {
    "collapsed": true,
    "slideshow": {
     "slide_type": "fragment"
    }
   },
   "source": [
    "| Folium | Bokeh | Matplotlib |\n",
    "| :---: | :---: | :---: |\n",
    "| <font color='red'>Interactive</font> | <font color='red'>Interactive</font> | <font color='steelblue'>Static</font> |\n",
    "| <font color='red'>Zoom in/out easily<br>with scroll</font> | <font color='red'>Need to select zoom mode</font> | <font color='steelblue'>N/A</font> |\n",
    "| <font color='red'>Allow multiple features easily:<br>layers and clusters</font> | <font color='steelblue'>May be possible,<br>but hard</font> | <font color='steelblue'>N/A</font> |\n",
    "| <font color='steelblue'>Slow</font> | <font color='steelblue'>Fast</font> | <font color='steelblue'>N/A</font> |"
   ]
  },
  {
   "cell_type": "code",
   "execution_count": null,
   "metadata": {
    "ExecuteTime": {
     "end_time": "2019-11-04T04:26:44.548963Z",
     "start_time": "2019-11-04T04:26:44.136800Z"
    },
    "slideshow": {
     "slide_type": "skip"
    }
   },
   "outputs": [],
   "source": [
    "fig, ax = plt.subplots(figsize=(8,6))\n",
    "\n",
    "width = 0.35\n",
    "labels = ['2014-2017', '2017']\n",
    "multi = [77.6, 8.13]\n",
    "one = [20.8, 2.90]\n",
    "\n",
    "ax.bar(np.arange(2) - width/2, multi, width, label='Folium')\n",
    "ax.bar(np.arange(2) + width/2, one, width, label='Bokeh')\n",
    "\n",
    "ax.set_ylabel('Plotting time (s)', fontsize=14)\n",
    "ax.set_title('Execution time for Folium and Bokeh to plot\\n 1 and 4 years of data', fontsize=14)\n",
    "ax.set_xticks(np.arange(2))\n",
    "ax.set_xticklabels(labels, fontsize=14)\n",
    "ax.set_xlim(-1,2)\n",
    "\n",
    "ax.legend(fontsize=14)\n",
    "plt.savefig('times.png')"
   ]
  },
  {
   "cell_type": "markdown",
   "metadata": {
    "slideshow": {
     "slide_type": "subslide"
    }
   },
   "source": [
    "<img src=\"https://syin3.github.io/WA-Crash-Viz-and-Analysis/technology%20review/plots/times.png\">"
   ]
  },
  {
   "cell_type": "markdown",
   "metadata": {
    "slideshow": {
     "slide_type": "slide"
    }
   },
   "source": [
    "## Thanks! Q&A time"
   ]
  },
  {
   "cell_type": "code",
   "execution_count": null,
   "metadata": {
    "slideshow": {
     "slide_type": "skip"
    }
   },
   "outputs": [],
   "source": []
  },
  {
   "cell_type": "markdown",
   "metadata": {
    "heading_collapsed": true,
    "slideshow": {
     "slide_type": "skip"
    }
   },
   "source": [
    "## Aggregate by year"
   ]
  },
  {
   "cell_type": "code",
   "execution_count": null,
   "metadata": {
    "hidden": true,
    "slideshow": {
     "slide_type": "skip"
    }
   },
   "outputs": [],
   "source": [
    "df = pd.read_csv(\"WA_Rural_St_RtesCrashes_Full.csv\")\n",
    "df['date'] = pd.to_datetime(df['DATE'])"
   ]
  },
  {
   "cell_type": "code",
   "execution_count": null,
   "metadata": {
    "hidden": true,
    "slideshow": {
     "slide_type": "skip"
    }
   },
   "outputs": [],
   "source": [
    "df['year'] = df['date'].dt.year\n",
    "df.groupby(['year']).agg(['count'])"
   ]
  },
  {
   "cell_type": "markdown",
   "metadata": {
    "hidden": true,
    "slideshow": {
     "slide_type": "skip"
    }
   },
   "source": [
    "### Num of cases across years"
   ]
  },
  {
   "cell_type": "code",
   "execution_count": null,
   "metadata": {
    "hidden": true,
    "slideshow": {
     "slide_type": "skip"
    }
   },
   "outputs": [],
   "source": [
    "df['year'].value_counts()"
   ]
  },
  {
   "cell_type": "code",
   "execution_count": null,
   "metadata": {
    "hidden": true,
    "slideshow": {
     "slide_type": "skip"
    }
   },
   "outputs": [],
   "source": [
    "from matplotlib import pyplot as plt\n",
    "plt.plot(df['year'].value_counts().sort_index())\n",
    "plt.show()"
   ]
  }
 ],
 "metadata": {
  "anaconda-cloud": {},
  "celltoolbar": "Slideshow",
  "kernelspec": {
   "display_name": "Python 3",
   "language": "python",
   "name": "python3"
  },
  "language_info": {
   "codemirror_mode": {
    "name": "ipython",
    "version": 3
   },
   "file_extension": ".py",
   "mimetype": "text/x-python",
   "name": "python",
   "nbconvert_exporter": "python",
   "pygments_lexer": "ipython3",
   "version": "3.6.2"
  }
 },
 "nbformat": 4,
 "nbformat_minor": 2
}
