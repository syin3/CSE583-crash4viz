{
 "cells": [
  {
   "cell_type": "markdown",
   "metadata": {
    "slideshow": {
     "slide_type": "slide"
    }
   },
   "source": [
    "# WA Crash Viz and Analysis\n",
    "### Final presentation & demo\n",
    "#### by Katharine Chen, Tianqi Fang, Yutong Liu, Shuyi Yin"
   ]
  },
  {
   "cell_type": "markdown",
   "metadata": {
    "slideshow": {
     "slide_type": "slide"
    }
   },
   "source": [
    "## Problem Background"
   ]
  },
  {
   "cell_type": "markdown",
   "metadata": {
    "slideshow": {
     "slide_type": "fragment"
    }
   },
   "source": [
    "+ A variety of factors (environmental, physical, etc) contribute to a road’s overall safety;<br>\n",
    "+ Professional and non-professional users all need user-friendly interfaces to visualize and understand data;"
   ]
  },
  {
   "cell_type": "markdown",
   "metadata": {
    "slideshow": {
     "slide_type": "slide"
    }
   },
   "source": [
    "## Our vision"
   ]
  },
  {
   "cell_type": "markdown",
   "metadata": {},
   "source": [
    "Ideally, we want to develop a **website or app interface** that <br>\n",
    "facilitates visualization and analysis of crashes for all levels of users;"
   ]
  },
  {
   "cell_type": "markdown",
   "metadata": {
    "slideshow": {
     "slide_type": "slide"
    }
   },
   "source": [
    "## Data"
   ]
  },
  {
   "cell_type": "markdown",
   "metadata": {
    "slideshow": {
     "slide_type": "fragment"
    }
   },
   "source": [
    "We look at highway crashes **2013 - 2017** in WA;\n",
    "+ Crashes ([HSIS](https://www.hsisinfo.org/index.cfm))<br>\n",
    "    - accident: **<u>case num</u>**, **<u>road id</u>**, **<u>milepost</u>**, location, time, type, severity\n",
    "    - occupant: **<u>case num</u>**, condition;\n",
    "    - vehicle: **<u>case num</u>**, make, condition;\n",
    "+ Roadway info ([HSIS](https://www.hsisinfo.org/index.cfm)):<br>\n",
    "    - curve: **<u>road id</u>**, **<u>milepost</u>**, curvature;\n",
    "    - grade: **<u>road id</u>**, **<u>milepost</u>**, grade;\n",
    "    - road: **<u>road id</u>**, **<u>milepost</u>**, traffic, num of lanes, widths;\n",
    "+ Coordinates conversion ([NOAA](https://www.ngs.noaa.gov/TOOLS/spc.shtml)):\n",
    "    - state plane coordinates to lat/lng;"
   ]
  },
  {
   "cell_type": "markdown",
   "metadata": {
    "slideshow": {
     "slide_type": "subslide"
    }
   },
   "source": [
    "Our database diagram is online [here](https://dbdiagram.io/embed/5dee85d7edf08a25543ee300)."
   ]
  },
  {
   "cell_type": "markdown",
   "metadata": {
    "slideshow": {
     "slide_type": "slide"
    }
   },
   "source": [
    "## Use cases"
   ]
  },
  {
   "cell_type": "markdown",
   "metadata": {
    "slideshow": {
     "slide_type": "fragment"
    }
   },
   "source": [
    "With our **crash4viz** interface,\n",
    "+ average driver may consult the map and analysis report before travel;\n",
    "+ DOT planners, police officers and other professionals may look deeper into contributing factors;\n",
    "+ all non-programmers can use this interface that visualize past crashes with their selection of ***county, weather, road, vehicle***, etc;\n",
    "+ **Rainy day, steep downhill curved road, old car, little traffic, young driver**;"
   ]
  },
  {
   "cell_type": "markdown",
   "metadata": {
    "slideshow": {
     "slide_type": "slide"
    }
   },
   "source": [
    "## Demo !!!"
   ]
  },
  {
   "cell_type": "markdown",
   "metadata": {
    "ExecuteTime": {
     "end_time": "2019-12-09T19:39:17.632936Z",
     "start_time": "2019-12-09T19:39:12.647511Z"
    },
    "slideshow": {
     "slide_type": "fragment"
    }
   },
   "source": [
    "```python\n",
    "python interface.py\n",
    "```"
   ]
  },
  {
   "cell_type": "markdown",
   "metadata": {
    "slideshow": {
     "slide_type": "slide"
    }
   },
   "source": [
    "## Design"
   ]
  },
  {
   "cell_type": "markdown",
   "metadata": {
    "slideshow": {
     "slide_type": "fragment"
    }
   },
   "source": [
    "+ Data manager: <br>\n",
    "    + Provides an interaction to the dataset, i.e. query based on users’ input, such as “2017 + rainy + King County” fed to data manager will return crash records that \n",
    "        - Happens in 2017;\n",
    "        - Happened in rainy weather condition;\n",
    "        - Took place in King Count;\n",
    "+ Analysis manager: <br>\n",
    "    - recieves data from **data manager** and is activated by \"generate report\" button.\n",
    "    - conducts descriptive analysis;\n",
    "    - fits statistical models to the data and generate factor importance summary;\n",
    "\n",
    "+ Visualization manager:\n",
    "    - is the most important component of our package;\n",
    "    - receives filtered data from data manager;\n",
    "    - renders HTML maps;"
   ]
  },
  {
   "cell_type": "markdown",
   "metadata": {
    "slideshow": {
     "slide_type": "slide"
    }
   },
   "source": [
    "## [Project structure](https://syin3.github.io/crash4viz/)"
   ]
  },
  {
   "cell_type": "markdown",
   "metadata": {
    "slideshow": {
     "slide_type": "fragment"
    }
   },
   "source": [
    "### Core scripts\n",
    "\n",
    "+ ``Interface.py`` is above everything and calls all modules it needed;\n",
    "+ Mapping and ML functions are in ``./crash4viz`` folder;\n",
    "+ Testing functions are in ``./crash4viz/tests`` folder;\n",
    "+ Data preparation scripts are in ``./crash4viz/dataprep`` folder;\n",
    "\n",
    "### Data\n",
    "+ Raw and processed are stored in ``./data`` folder for reference;"
   ]
  },
  {
   "cell_type": "markdown",
   "metadata": {
    "slideshow": {
     "slide_type": "slide"
    }
   },
   "source": [
    "## Valuable lessons"
   ]
  },
  {
   "cell_type": "markdown",
   "metadata": {
    "slideshow": {
     "slide_type": "fragment"
    }
   },
   "source": [
    "+ Deisgn together and assign tasks early;\n",
    "+ Communicate constantly on IOs of different components;\n",
    "+ Build clean early;"
   ]
  },
  {
   "cell_type": "markdown",
   "metadata": {
    "slideshow": {
     "slide_type": "subslide"
    }
   },
   "source": [
    "## Future work"
   ]
  },
  {
   "cell_type": "markdown",
   "metadata": {
    "slideshow": {
     "slide_type": "fragment"
    }
   },
   "source": [
    "+ Add time filtering function;\n",
    "+ ML on filtered data;\n",
    "+ Write a website version with Django;\n",
    "+ Better plots, cleaner code;"
   ]
  }
 ],
 "metadata": {
  "celltoolbar": "Slideshow",
  "kernelspec": {
   "display_name": "Python 3",
   "language": "python",
   "name": "python3"
  },
  "language_info": {
   "codemirror_mode": {
    "name": "ipython",
    "version": 3
   },
   "file_extension": ".py",
   "mimetype": "text/x-python",
   "name": "python",
   "nbconvert_exporter": "python",
   "pygments_lexer": "ipython3",
   "version": "3.6.2"
  }
 },
 "nbformat": 4,
 "nbformat_minor": 2
}
