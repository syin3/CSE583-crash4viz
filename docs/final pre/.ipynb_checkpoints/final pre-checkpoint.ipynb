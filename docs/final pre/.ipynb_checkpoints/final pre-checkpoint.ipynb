{
 "cells": [
  {
   "cell_type": "markdown",
   "metadata": {
    "slideshow": {
     "slide_type": "slide"
    }
   },
   "source": [
    "# WA Crash Viz and Analysis\n",
    "### Final presentation & demo\n",
    "#### by Katharine Chen, Tianqi Fang, Yutong Liu, Shuyi Yin"
   ]
  },
  {
   "cell_type": "markdown",
   "metadata": {
    "slideshow": {
     "slide_type": "slide"
    }
   },
   "source": [
    "## Problem Background"
   ]
  },
  {
   "cell_type": "markdown",
   "metadata": {
    "slideshow": {
     "slide_type": "fragment"
    }
   },
   "source": [
    "+ A variety of factors (environmental, physical, etc) contribute to a road’s overall safety;<br>\n",
    "+ Professional and non-professional users all need user-friendly interfaces to visualize and understand data;"
   ]
  },
  {
   "cell_type": "markdown",
   "metadata": {
    "slideshow": {
     "slide_type": "slide"
    }
   },
   "source": [
    "## Our vision"
   ]
  },
  {
   "cell_type": "markdown",
   "metadata": {},
   "source": [
    "Ideally, we want to develop a **website or app interface** that <br>\n",
    "facilitates visualization and analysis of crashes for all levels of users;"
   ]
  },
  {
   "cell_type": "markdown",
   "metadata": {
    "slideshow": {
     "slide_type": "slide"
    }
   },
   "source": [
    "## Data"
   ]
  },
  {
   "cell_type": "markdown",
   "metadata": {
    "slideshow": {
     "slide_type": "fragment"
    }
   },
   "source": [
    "We look at highway crashes **2013 - 2017** in WA;\n",
    "+ Crashes ([HSIS](https://www.hsisinfo.org/index.cfm))<br>\n",
    "    - accident: **<u>case num</u>**, **<u>road id</u>**, **<u>milepost</u>**, location, time, type, severity\n",
    "    - occupant: **<u>case num</u>**, condition;\n",
    "    - vehicle: **<u>case num</u>**, make, condition;\n",
    "+ Roadway info ([HSIS](https://www.hsisinfo.org/index.cfm)):<br>\n",
    "    - curve: **<u>road id</u>**, **<u>milepost</u>**, curvature;\n",
    "    - grade: **<u>road id</u>**, **<u>milepost</u>**, grade;\n",
    "    - road: **<u>road id</u>**, **<u>milepost</u>**, traffic, num of lanes, widths;\n",
    "+ Coordinates conversion ([NOAA](https://www.ngs.noaa.gov/TOOLS/spc.shtml)):\n",
    "    - state plane coordinates to lat/lng;"
   ]
  },
  {
   "cell_type": "markdown",
   "metadata": {
    "slideshow": {
     "slide_type": "subslide"
    }
   },
   "source": [
    "Our database diagram is online [here](https://dbdiagram.io/embed/5dee85d7edf08a25543ee300)."
   ]
  },
  {
   "cell_type": "code",
   "execution_count": 1,
   "metadata": {
    "ExecuteTime": {
     "end_time": "2019-12-10T01:18:20.221832Z",
     "start_time": "2019-12-10T01:18:19.557875Z"
    },
    "slideshow": {
     "slide_type": "skip"
    }
   },
   "outputs": [],
   "source": [
    "import pandas as pd\n",
    "df2013 = pd.read_csv('../../data/crash-merged/2013.csv')"
   ]
  },
  {
   "cell_type": "code",
   "execution_count": 2,
   "metadata": {
    "ExecuteTime": {
     "end_time": "2019-12-10T01:18:20.290091Z",
     "start_time": "2019-12-10T01:18:20.227174Z"
    },
    "slideshow": {
     "slide_type": "subslide"
    }
   },
   "outputs": [
    {
     "data": {
      "text/html": [
       "<div>\n",
       "<style scoped>\n",
       "    .dataframe tbody tr th:only-of-type {\n",
       "        vertical-align: middle;\n",
       "    }\n",
       "\n",
       "    .dataframe tbody tr th {\n",
       "        vertical-align: top;\n",
       "    }\n",
       "\n",
       "    .dataframe thead th {\n",
       "        text-align: right;\n",
       "    }\n",
       "</style>\n",
       "<table border=\"1\" class=\"dataframe\">\n",
       "  <thead>\n",
       "    <tr style=\"text-align: right;\">\n",
       "      <th></th>\n",
       "      <th>CASENO</th>\n",
       "      <th>FORM_REPT_NO</th>\n",
       "      <th>rd_inv</th>\n",
       "      <th>milepost</th>\n",
       "      <th>RTE_NBR</th>\n",
       "      <th>lat</th>\n",
       "      <th>lon</th>\n",
       "      <th>MONTH</th>\n",
       "      <th>DAYMTH</th>\n",
       "      <th>WEEKDAY</th>\n",
       "      <th>...</th>\n",
       "      <th>weather</th>\n",
       "      <th>rur_urb</th>\n",
       "      <th>REPORT</th>\n",
       "      <th>veh_count</th>\n",
       "      <th>COUNTY</th>\n",
       "      <th>AADT</th>\n",
       "      <th>mvmt</th>\n",
       "      <th>deg_curv</th>\n",
       "      <th>dir_grad</th>\n",
       "      <th>pct_grad</th>\n",
       "    </tr>\n",
       "  </thead>\n",
       "  <tbody>\n",
       "    <tr>\n",
       "      <th>0</th>\n",
       "      <td>2013000001</td>\n",
       "      <td>E218403</td>\n",
       "      <td>290</td>\n",
       "      <td>3.29</td>\n",
       "      <td>290</td>\n",
       "      <td>47.671826</td>\n",
       "      <td>-117.344316</td>\n",
       "      <td>1</td>\n",
       "      <td>3</td>\n",
       "      <td>4</td>\n",
       "      <td>...</td>\n",
       "      <td>1</td>\n",
       "      <td>U</td>\n",
       "      <td>1</td>\n",
       "      <td>2</td>\n",
       "      <td>32.0</td>\n",
       "      <td>6669.0</td>\n",
       "      <td>0.02</td>\n",
       "      <td>5.0</td>\n",
       "      <td>-</td>\n",
       "      <td>0.05</td>\n",
       "    </tr>\n",
       "    <tr>\n",
       "      <th>1</th>\n",
       "      <td>2013000003</td>\n",
       "      <td>E218519</td>\n",
       "      <td>003</td>\n",
       "      <td>52.82</td>\n",
       "      <td>3</td>\n",
       "      <td>47.759766</td>\n",
       "      <td>-122.655264</td>\n",
       "      <td>1</td>\n",
       "      <td>2</td>\n",
       "      <td>3</td>\n",
       "      <td>...</td>\n",
       "      <td>1</td>\n",
       "      <td>U</td>\n",
       "      <td>3</td>\n",
       "      <td>1</td>\n",
       "      <td>18.0</td>\n",
       "      <td>30916.0</td>\n",
       "      <td>0.90</td>\n",
       "      <td>0.0</td>\n",
       "      <td>+</td>\n",
       "      <td>0.50</td>\n",
       "    </tr>\n",
       "    <tr>\n",
       "      <th>2</th>\n",
       "      <td>2013000005</td>\n",
       "      <td>E218367</td>\n",
       "      <td>005</td>\n",
       "      <td>192.42</td>\n",
       "      <td>5</td>\n",
       "      <td>47.960145</td>\n",
       "      <td>-122.199315</td>\n",
       "      <td>1</td>\n",
       "      <td>2</td>\n",
       "      <td>3</td>\n",
       "      <td>...</td>\n",
       "      <td>1</td>\n",
       "      <td>U</td>\n",
       "      <td>2</td>\n",
       "      <td>2</td>\n",
       "      <td>31.0</td>\n",
       "      <td>185099.0</td>\n",
       "      <td>1.35</td>\n",
       "      <td>0.0</td>\n",
       "      <td>-</td>\n",
       "      <td>0.44</td>\n",
       "    </tr>\n",
       "    <tr>\n",
       "      <th>3</th>\n",
       "      <td>2013000008</td>\n",
       "      <td>E219313</td>\n",
       "      <td>005</td>\n",
       "      <td>124.06</td>\n",
       "      <td>5</td>\n",
       "      <td>47.131128</td>\n",
       "      <td>-122.535729</td>\n",
       "      <td>1</td>\n",
       "      <td>3</td>\n",
       "      <td>4</td>\n",
       "      <td>...</td>\n",
       "      <td>3</td>\n",
       "      <td>U</td>\n",
       "      <td>1</td>\n",
       "      <td>2</td>\n",
       "      <td>27.0</td>\n",
       "      <td>143406.0</td>\n",
       "      <td>14.13</td>\n",
       "      <td>0.0</td>\n",
       "      <td>+</td>\n",
       "      <td>0.11</td>\n",
       "    </tr>\n",
       "    <tr>\n",
       "      <th>4</th>\n",
       "      <td>2013000009</td>\n",
       "      <td>E219663</td>\n",
       "      <td>900</td>\n",
       "      <td>2.34</td>\n",
       "      <td>900</td>\n",
       "      <td>47.483053</td>\n",
       "      <td>-122.249014</td>\n",
       "      <td>1</td>\n",
       "      <td>9</td>\n",
       "      <td>3</td>\n",
       "      <td>...</td>\n",
       "      <td>2</td>\n",
       "      <td>U</td>\n",
       "      <td>1</td>\n",
       "      <td>2</td>\n",
       "      <td>17.0</td>\n",
       "      <td>18407.0</td>\n",
       "      <td>0.47</td>\n",
       "      <td>0.0</td>\n",
       "      <td>+</td>\n",
       "      <td>6.62</td>\n",
       "    </tr>\n",
       "  </tbody>\n",
       "</table>\n",
       "<p>5 rows × 22 columns</p>\n",
       "</div>"
      ],
      "text/plain": [
       "       CASENO FORM_REPT_NO rd_inv  milepost  RTE_NBR        lat         lon  \\\n",
       "0  2013000001      E218403    290      3.29      290  47.671826 -117.344316   \n",
       "1  2013000003      E218519    003     52.82        3  47.759766 -122.655264   \n",
       "2  2013000005      E218367    005    192.42        5  47.960145 -122.199315   \n",
       "3  2013000008      E219313    005    124.06        5  47.131128 -122.535729   \n",
       "4  2013000009      E219663    900      2.34      900  47.483053 -122.249014   \n",
       "\n",
       "   MONTH  DAYMTH  WEEKDAY  ...  weather  rur_urb  REPORT veh_count  COUNTY  \\\n",
       "0      1       3        4  ...        1        U       1         2    32.0   \n",
       "1      1       2        3  ...        1        U       3         1    18.0   \n",
       "2      1       2        3  ...        1        U       2         2    31.0   \n",
       "3      1       3        4  ...        3        U       1         2    27.0   \n",
       "4      1       9        3  ...        2        U       1         2    17.0   \n",
       "\n",
       "       AADT   mvmt  deg_curv  dir_grad  pct_grad  \n",
       "0    6669.0   0.02       5.0         -      0.05  \n",
       "1   30916.0   0.90       0.0         +      0.50  \n",
       "2  185099.0   1.35       0.0         -      0.44  \n",
       "3  143406.0  14.13       0.0         +      0.11  \n",
       "4   18407.0   0.47       0.0         +      6.62  \n",
       "\n",
       "[5 rows x 22 columns]"
      ]
     },
     "execution_count": 2,
     "metadata": {},
     "output_type": "execute_result"
    }
   ],
   "source": [
    "df2013.head()"
   ]
  },
  {
   "cell_type": "code",
   "execution_count": 3,
   "metadata": {
    "ExecuteTime": {
     "end_time": "2019-12-10T01:18:20.306998Z",
     "start_time": "2019-12-10T01:18:20.298581Z"
    },
    "slideshow": {
     "slide_type": "fragment"
    }
   },
   "outputs": [
    {
     "data": {
      "text/plain": [
       "Index(['CASENO', 'FORM_REPT_NO', 'rd_inv', 'milepost', 'RTE_NBR', 'lat', 'lon',\n",
       "       'MONTH', 'DAYMTH', 'WEEKDAY', 'RDSURF', 'LIGHT', 'weather', 'rur_urb',\n",
       "       'REPORT', 'veh_count', 'COUNTY', 'AADT', 'mvmt', 'deg_curv', 'dir_grad',\n",
       "       'pct_grad'],\n",
       "      dtype='object')"
      ]
     },
     "execution_count": 3,
     "metadata": {},
     "output_type": "execute_result"
    }
   ],
   "source": [
    "df2013.columns"
   ]
  },
  {
   "cell_type": "markdown",
   "metadata": {
    "slideshow": {
     "slide_type": "slide"
    }
   },
   "source": [
    "## Use cases"
   ]
  },
  {
   "cell_type": "markdown",
   "metadata": {
    "slideshow": {
     "slide_type": "fragment"
    }
   },
   "source": [
    "With our **crash4viz** interface,\n",
    "+ average driver may consult the map and analysis report before travel;\n",
    "+ DOT planners, police officers and other professionals may look deeper into contributing factors;\n",
    "+ all non-programmers can use this interface that visualize past crashes with their selection of ***county, weather, road, vehicle***, etc;\n",
    "+ **Rainy day, steep downhill curved road, old car, little traffic, young driver**;"
   ]
  },
  {
   "cell_type": "markdown",
   "metadata": {
    "slideshow": {
     "slide_type": "slide"
    }
   },
   "source": [
    "## Demo !!!"
   ]
  },
  {
   "cell_type": "markdown",
   "metadata": {
    "ExecuteTime": {
     "end_time": "2019-12-09T19:39:17.632936Z",
     "start_time": "2019-12-09T19:39:12.647511Z"
    },
    "slideshow": {
     "slide_type": "fragment"
    }
   },
   "source": [
    "```python\n",
    "python interface.py\n",
    "```"
   ]
  },
  {
   "cell_type": "markdown",
   "metadata": {
    "slideshow": {
     "slide_type": "slide"
    }
   },
   "source": [
    "## Design"
   ]
  },
  {
   "cell_type": "markdown",
   "metadata": {
    "slideshow": {
     "slide_type": "fragment"
    }
   },
   "source": [
    "+ Data manager: <br>\n",
    "    + Provides an interaction to the dataset, i.e. query based on users’ input, such as “2017 + rainy + King County” fed to data manager will return crash records that \n",
    "        - Happens in 2017;\n",
    "        - Happened in rainy weather condition;\n",
    "        - Took place in King Count;\n",
    "+ Analysis manager: <br>\n",
    "    - recieves data from **data manager** and is activated by \"generate report\" button.\n",
    "    - conducts descriptive analysis;\n",
    "    - fits statistical models to the data and generate factor importance summary;\n",
    "\n",
    "+ Visualization manager:\n",
    "    - is the most important component of our package;\n",
    "    - receives filtered data from data manager;\n",
    "    - renders HTML maps;"
   ]
  },
  {
   "cell_type": "markdown",
   "metadata": {
    "slideshow": {
     "slide_type": "slide"
    }
   },
   "source": [
    "## [Project structure](https://syin3.github.io/crash4viz/)"
   ]
  },
  {
   "cell_type": "markdown",
   "metadata": {
    "slideshow": {
     "slide_type": "fragment"
    }
   },
   "source": [
    "### Core scripts\n",
    "\n",
    "+ ``Interface.py`` is above everything and calls all modules it needed;\n",
    "+ Mapping and ML functions are in ``./crash4viz`` folder;\n",
    "+ Testing functions are in ``./crash4viz/tests`` folder;\n",
    "+ Data preparation scripts are in ``./crash4viz/dataprep`` folder;\n",
    "\n",
    "### Data\n",
    "+ Raw and processed are stored in ``./data`` folder for reference;"
   ]
  },
  {
   "cell_type": "markdown",
   "metadata": {
    "slideshow": {
     "slide_type": "slide"
    }
   },
   "source": [
    "## Valuable lessons"
   ]
  },
  {
   "cell_type": "markdown",
   "metadata": {
    "slideshow": {
     "slide_type": "fragment"
    }
   },
   "source": [
    "+ Deisgn together and assign tasks early;\n",
    "+ Communicate constantly on IOs of different components;\n",
    "+ Build clean early;"
   ]
  },
  {
   "cell_type": "markdown",
   "metadata": {
    "slideshow": {
     "slide_type": "subslide"
    }
   },
   "source": [
    "## Future work"
   ]
  },
  {
   "cell_type": "markdown",
   "metadata": {
    "slideshow": {
     "slide_type": "fragment"
    }
   },
   "source": [
    "+ Add time filtering function;\n",
    "+ ML on filtered data;\n",
    "+ Write a website version with Django;\n",
    "+ Better plots, cleaner code;"
   ]
  }
 ],
 "metadata": {
  "celltoolbar": "Slideshow",
  "kernelspec": {
   "display_name": "Python 3",
   "language": "python",
   "name": "python3"
  },
  "language_info": {
   "codemirror_mode": {
    "name": "ipython",
    "version": 3
   },
   "file_extension": ".py",
   "mimetype": "text/x-python",
   "name": "python",
   "nbconvert_exporter": "python",
   "pygments_lexer": "ipython3",
   "version": "3.6.2"
  }
 },
 "nbformat": 4,
 "nbformat_minor": 2
}
