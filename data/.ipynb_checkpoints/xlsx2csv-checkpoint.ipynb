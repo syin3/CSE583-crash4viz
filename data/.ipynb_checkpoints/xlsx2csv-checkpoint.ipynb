{
 "cells": [
  {
   "cell_type": "code",
   "execution_count": null,
   "metadata": {},
   "outputs": [],
   "source": [
    "'''\n",
    "xslx2csv.py\n",
    "Converts datasets in xslx format to csv in the given directory\n",
    "'''"
   ]
  },
  {
   "cell_type": "code",
   "execution_count": 7,
   "metadata": {
    "ExecuteTime": {
     "end_time": "2019-12-07T21:32:08.105685Z",
     "start_time": "2019-12-07T21:32:08.093096Z"
    }
   },
   "outputs": [],
   "source": [
    "import os\n",
    "import pandas as pd"
   ]
  },
  {
   "cell_type": "code",
   "execution_count": 8,
   "metadata": {
    "ExecuteTime": {
     "end_time": "2019-12-07T21:32:08.251919Z",
     "start_time": "2019-12-07T21:32:08.245182Z"
    }
   },
   "outputs": [
    {
     "name": "stdout",
     "output_type": "stream",
     "text": [
      "Found 30 target file(s) in the current folder...\n",
      "\n"
     ]
    }
   ],
   "source": [
    "file_list = []\n",
    "for file in os.listdir(\"./hsis\"):\n",
    "    if file.endswith(\".xlsx\"):\n",
    "        file_list.append(file)\n",
    "print('Found {} target file(s) in the current folder...\\n'.format(len(file_list)))\n",
    "\n",
    "file_list = sorted(file_list, reverse=True)"
   ]
  },
  {
   "cell_type": "code",
   "execution_count": 9,
   "metadata": {
    "ExecuteTime": {
     "end_time": "2019-12-07T21:37:02.524198Z",
     "start_time": "2019-12-07T21:37:02.515345Z"
    }
   },
   "outputs": [
    {
     "data": {
      "text/plain": [
       "['wa17veh.xlsx',\n",
       " 'wa17road.xlsx',\n",
       " 'wa17occ.xlsx',\n",
       " 'wa17grad.xlsx',\n",
       " 'wa17curv.xlsx',\n",
       " 'wa17acc.xlsx',\n",
       " 'wa16veh.xlsx',\n",
       " 'wa16road.xlsx',\n",
       " 'wa16occ.xlsx',\n",
       " 'wa16grad.xlsx',\n",
       " 'wa16curv.xlsx',\n",
       " 'wa16acc.xlsx',\n",
       " 'wa15veh.xlsx',\n",
       " 'wa15road.xlsx',\n",
       " 'wa15occ.xlsx',\n",
       " 'wa15grad.xlsx',\n",
       " 'wa15curv.xlsx',\n",
       " 'wa15acc.xlsx',\n",
       " 'wa14veh.xlsx',\n",
       " 'wa14road.xlsx',\n",
       " 'wa14occ.xlsx',\n",
       " 'wa14grad.xlsx',\n",
       " 'wa14curv.xlsx',\n",
       " 'wa14acc.xlsx',\n",
       " 'wa13veh.xlsx',\n",
       " 'wa13road.xlsx',\n",
       " 'wa13occ.xlsx',\n",
       " 'wa13grad.xlsx',\n",
       " 'wa13curv.xlsx',\n",
       " 'wa13acc.xlsx']"
      ]
     },
     "execution_count": 9,
     "metadata": {},
     "output_type": "execute_result"
    }
   ],
   "source": [
    "file_list"
   ]
  },
  {
   "cell_type": "code",
   "execution_count": 10,
   "metadata": {
    "ExecuteTime": {
     "end_time": "2019-12-07T21:39:08.670818Z",
     "start_time": "2019-12-07T21:38:49.344889Z"
    }
   },
   "outputs": [],
   "source": [
    "curr = pd.read_excel('./hsis/' + file)"
   ]
  },
  {
   "cell_type": "code",
   "execution_count": 13,
   "metadata": {
    "ExecuteTime": {
     "end_time": "2019-12-07T21:39:29.625059Z",
     "start_time": "2019-12-07T21:39:29.617901Z"
    }
   },
   "outputs": [
    {
     "data": {
      "text/plain": [
       "['FORM_REPT_NO',\n",
       " 'State_Plane_X',\n",
       " 'State_Plane_Y',\n",
       " 'rd_inv',\n",
       " 'milepost',\n",
       " 'CASENO',\n",
       " 'ACCYR',\n",
       " 'RTE_NBR',\n",
       " 'COUNTY',\n",
       " 'CITY',\n",
       " 'rur_urb',\n",
       " 'FUNC_CLS',\n",
       " 'MONTH',\n",
       " 'DAYMTH',\n",
       " 'WEEKDAY',\n",
       " 'ACCTYPE',\n",
       " 'REPORT',\n",
       " 'SEVERITY',\n",
       " 'loc_type',\n",
       " 'RD_CHAR1',\n",
       " 'RDSURF',\n",
       " 'RD_REL',\n",
       " 'LIGHT',\n",
       " 'GPS_LATX',\n",
       " 'GPS_LATY',\n",
       " 'GPS_LATZ',\n",
       " 'intent',\n",
       " 'loc_char',\n",
       " 'weather']"
      ]
     },
     "execution_count": 13,
     "metadata": {},
     "output_type": "execute_result"
    }
   ],
   "source": [
    "list(curr.columns)"
   ]
  },
  {
   "cell_type": "code",
   "execution_count": 24,
   "metadata": {
    "ExecuteTime": {
     "end_time": "2019-12-06T20:41:48.296966Z",
     "start_time": "2019-12-06T20:36:52.862787Z"
    }
   },
   "outputs": [
    {
     "name": "stdout",
     "output_type": "stream",
     "text": [
      "Finished file: wa17veh.xlsx\n",
      "Finished file: wa13occ.xlsx\n",
      "Finished file: wa17grad.xlsx\n",
      "Finished file: wa16grad.xlsx\n",
      "Finished file: wa14curv.xlsx\n",
      "Finished file: wa15curv.xlsx\n",
      "Finished file: wa13road.xlsx\n",
      "Finished file: wa16veh.xlsx\n",
      "Finished file: wa13acc.xlsx\n",
      "Finished file: wa14road.xlsx\n",
      "Finished file: wa15road.xlsx\n",
      "Finished file: wa14veh.xlsx\n",
      "Finished file: wa15veh.xlsx\n",
      "Finished file: wa13curv.xlsx\n",
      "Finished file: wa14occ.xlsx\n",
      "Finished file: wa15acc.xlsx\n",
      "Finished file: wa17curv.xlsx\n",
      "Finished file: wa16curv.xlsx\n",
      "Finished file: wa14acc.xlsx\n",
      "Finished file: wa15occ.xlsx\n",
      "Finished file: wa14grad.xlsx\n",
      "Finished file: wa15grad.xlsx\n",
      "Finished file: wa13veh.xlsx\n",
      "Finished file: wa16acc.xlsx\n",
      "Finished file: wa17occ.xlsx\n",
      "Finished file: wa13grad.xlsx\n",
      "Finished file: wa17road.xlsx\n",
      "Finished file: wa16road.xlsx\n",
      "Finished file: wa16occ.xlsx\n",
      "Finished file: wa17acc.xlsx\n"
     ]
    }
   ],
   "source": [
    "attributes = {}\n",
    "for file in file_list:\n",
    "    curr = pd.read_excel('./hsis/' + file)\n",
    "    if '17' in file:\n",
    "        attributes[file.split('.')[0][4:]] = list(curr.colummns)\n",
    "    curr.columns = attributes[file.split('.')[0][4:]]\n",
    "    curr.to_csv('./hsis-csv/' + file.split('.')[0] + '.csv', index=False)\n",
    "    print('Finished file: {}'.format(file))"
   ]
  },
  {
   "cell_type": "code",
   "execution_count": null,
   "metadata": {},
   "outputs": [],
   "source": []
  }
 ],
 "metadata": {
  "kernelspec": {
   "display_name": "Python 3",
   "language": "python",
   "name": "python3"
  },
  "language_info": {
   "codemirror_mode": {
    "name": "ipython",
    "version": 3
   },
   "file_extension": ".py",
   "mimetype": "text/x-python",
   "name": "python",
   "nbconvert_exporter": "python",
   "pygments_lexer": "ipython3",
   "version": "3.6.2"
  }
 },
 "nbformat": 4,
 "nbformat_minor": 2
}
