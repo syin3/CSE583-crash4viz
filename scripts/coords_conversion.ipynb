{
 "cells": [
  {
   "cell_type": "code",
   "execution_count": null,
   "metadata": {},
   "outputs": [],
   "source": [
    "'''\n",
    "coords_conversion.py\n",
    "reads in CSV files, prepares dataset for NOAA website multi-point conversion\n",
    "'''"
   ]
  },
  {
   "cell_type": "code",
   "execution_count": 1,
   "metadata": {
    "ExecuteTime": {
     "end_time": "2019-12-07T04:05:10.378515Z",
     "start_time": "2019-12-07T04:05:09.865348Z"
    }
   },
   "outputs": [],
   "source": [
    "import os\n",
    "import pandas as pd"
   ]
  },
  {
   "cell_type": "markdown",
   "metadata": {},
   "source": [
    "### detect acc csv file"
   ]
  },
  {
   "cell_type": "code",
   "execution_count": 2,
   "metadata": {
    "ExecuteTime": {
     "end_time": "2019-12-07T04:05:11.122327Z",
     "start_time": "2019-12-07T04:05:11.116152Z"
    }
   },
   "outputs": [],
   "source": [
    "directory = \"./data/hsis-csv\"\n",
    "\n",
    "acc_file_list = []\n",
    "for file in os.listdir(directory):\n",
    "    if 'acc' in file:\n",
    "        acc_file_list.append(file)"
   ]
  },
  {
   "cell_type": "markdown",
   "metadata": {
    "ExecuteTime": {
     "end_time": "2019-12-07T03:59:38.667832Z",
     "start_time": "2019-12-07T03:59:38.645998Z"
    }
   },
   "source": [
    "### read csv and prepare"
   ]
  },
  {
   "cell_type": "code",
   "execution_count": 8,
   "metadata": {
    "ExecuteTime": {
     "end_time": "2019-12-07T04:06:34.709915Z",
     "start_time": "2019-12-07T04:06:31.731992Z"
    }
   },
   "outputs": [
    {
     "name": "stderr",
     "output_type": "stream",
     "text": [
      "/Users/shuyiyin/anaconda/envs/syin/lib/python3.6/site-packages/ipykernel_launcher.py:14: SettingWithCopyWarning: \n",
      "A value is trying to be set on a copy of a slice from a DataFrame.\n",
      "Try using .loc[row_indexer,col_indexer] = value instead\n",
      "\n",
      "See the caveats in the documentation: http://pandas.pydata.org/pandas-docs/stable/user_guide/indexing.html#returning-a-view-versus-a-copy\n",
      "  \n"
     ]
    }
   ],
   "source": [
    "for file in acc_file_list:\n",
    "    yr = file[2:4]\n",
    "    acc_file = directory + '/' + file\n",
    "    acc = pd.read_csv(acc_file)\n",
    "    \n",
    "    columns = ['FORM_REPT_NO', 'State_Plane_X', 'State_Plane_Y']\n",
    "    acc = acc[columns]\n",
    "    acc.columns = ['REPORT NUMBER', 'X_full', 'Y_full']\n",
    "    \n",
    "    acc = acc.dropna(subset=['X_full', 'Y_full']).reset_index()\n",
    "    \n",
    "    output = acc[['Y_full', 'X_full']]\n",
    "    output.columns = ['northing', 'easting']\n",
    "    output['zone'] = 4602\n",
    "    output['units'] = 'usft'\n",
    "    output['inDatum'] = 'NAD83(2011)'\n",
    "    output['outDatum'] = 'NAD83(2011)'\n",
    "    output['utmZone'] = 'auto'\n",
    "    output['eht'] = 'N/A'\n",
    "    output['ID'] = output.index + 1\n",
    "    \n",
    "    output = output[['ID', 'zone', 'northing', 'easting', 'units', 'inDatum', 'outDatum', 'utmZone', 'eht']]\n",
    "    \n",
    "    for i in range(output.shape[0] // 4000):\n",
    "        output[(i*4000):((i+1)*4000)].to_csv('./data/coords2convert/acc_{}_{}.csv'.format(yr, i), index=None, sep=',')\n",
    "    output[((i+1)*4000):].to_csv('./data/coords2convert/acc_{}_{}.csv'.format(yr, i+1), index=None, sep=',')"
   ]
  },
  {
   "cell_type": "code",
   "execution_count": null,
   "metadata": {},
   "outputs": [],
   "source": []
  }
 ],
 "metadata": {
  "kernelspec": {
   "display_name": "Python 3",
   "language": "python",
   "name": "python3"
  },
  "language_info": {
   "codemirror_mode": {
    "name": "ipython",
    "version": 3
   },
   "file_extension": ".py",
   "mimetype": "text/x-python",
   "name": "python",
   "nbconvert_exporter": "python",
   "pygments_lexer": "ipython3",
   "version": "3.6.2"
  }
 },
 "nbformat": 4,
 "nbformat_minor": 2
}
