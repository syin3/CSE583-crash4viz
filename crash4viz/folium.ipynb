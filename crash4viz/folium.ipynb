{
 "cells": [
  {
   "cell_type": "code",
   "execution_count": 1,
   "metadata": {
    "ExecuteTime": {
     "end_time": "2019-12-08T18:31:10.331151Z",
     "start_time": "2019-12-08T18:31:08.649767Z"
    },
    "slideshow": {
     "slide_type": "skip"
    }
   },
   "outputs": [],
   "source": [
    "import pandas as pd\n",
    "import folium\n",
    "import folium.plugins\n",
    "import warnings\n",
    "import numpy as np\n",
    "warnings.filterwarnings('ignore')\n",
    "from matplotlib import pyplot as plt\n",
    "from matplotlib.pyplot import rc"
   ]
  },
  {
   "cell_type": "code",
   "execution_count": 2,
   "metadata": {
    "ExecuteTime": {
     "end_time": "2019-12-08T18:31:12.662541Z",
     "start_time": "2019-12-08T18:31:12.650006Z"
    }
   },
   "outputs": [],
   "source": [
    "# features that can be used in plot:\n",
    "\n",
    "# REPORT (accident severity)\n",
    "severity_dict = {1: 'Property Damage Only', 2: 'Injury Accident', 3: 'Fatal Accident'}\n",
    "\n",
    "# weather (weather condition)\n",
    "weather_dict = {'0': 'Unknown', '1': 'Clear or Partly Cloudy',  \n",
    "                '2': 'Overcast', '3': 'Raining', '4': 'Snowing',\n",
    "                '5': 'Fog/Smog/Smoke', '6': 'Sleet/Hail/Freezing Rain',\n",
    "                '7': 'Severe Crosswind', '8': 'Blowing Sand or Dirt or Snow',\n",
    "                '9': 'Other', '10': 'Foggy'}\n",
    "\n",
    "# LIGHT (lighting condition)\n",
    "light_dict = {1.0: 'Daylight', 2.0: 'Dawn', 3.0: 'Dusk',\n",
    "              4.0: 'Dark, Street Lights On', 5.0: 'Dark, Street Lights Off', \n",
    "              6.0: 'No Street Lights', 7.0: 'Other', 9.0: 'Unknown', np.nan: 'Unknown'}\n",
    "\n",
    "# COUNTY (county where the accident happened)\n",
    "county_dict = {0: 'Not Stated', 1:'Adams', 2: 'Asotin', 3: 'Benton', 4: 'Chelan',\n",
    "               5: 'Clallam', 6: 'Clark', 7:'Columbia', 8: 'Cowlitz', 9: 'Douglas', \n",
    "               10: 'Ferry', 11: 'Franklin', 12: 'Garfield', 13: 'Grant', 14: 'Grays Harbor',\n",
    "               15: 'Island', 16: 'Jefferson', 17: 'King', 18: 'Kitsap', 19: 'Kittitas',\n",
    "               20: 'Klickitat', 21: 'Lewis', 22: 'Lincoln', 23: 'Mason', 24: 'Okanogan',\n",
    "               25: 'Pacific', 26: 'Pend Oreille', 27: 'Pierce', 28: 'San Juan',\n",
    "               29: 'Skagit', 30: 'Skamania', 31: 'Snohomish', 32: 'Spokane',\n",
    "               33: 'Stevens', 34: 'Thurston', 35: 'Wahkiakum', 36: 'Walla Walla',\n",
    "               37: 'Whatcom', 38: 'Whitman', 39: 'Yakima'}\n",
    "\n",
    "# WEEKDAY (day of the week)\n",
    "weekday_dict = {1: 'Monday', 2: 'Tuesday', 3: 'Wednesday', 4: 'Thursday', 5: 'Friday',\n",
    "                6: 'Saturday', 7: 'Sunday'}\n",
    "\n",
    "# rur_urb (rural or urban)\n",
    "# be careful on nan, use np.isnan() to judge\n",
    "rur_urb_dict = {'R': 'rural', 'U': 'urban', np.nan: 'not stated'}\n",
    "\n",
    "# RDSURF (roadway surface condition)\n",
    "roadway_surf_dict = {1.0: 'Dry', 2.0: 'Wet', 3.0: 'Snow/Slush', 4.0: 'Ice',\n",
    "                     5.0: 'Sand/Mud/Dirt', 6.0: 'Oil', 7.0: 'Standing Water',\n",
    "                     8.0: 'Other', 9.0: 'Unknown', np.nan: 'Unknown'}"
   ]
  },
  {
   "cell_type": "code",
   "execution_count": 29,
   "metadata": {
    "ExecuteTime": {
     "end_time": "2019-12-08T18:46:14.376890Z",
     "start_time": "2019-12-08T18:46:14.351944Z"
    }
   },
   "outputs": [],
   "source": [
    "# basic\n",
    "# user input: year, county\n",
    "def plot_basic(year, county, map_sink):\n",
    "    \"\"\"\n",
    "    with specified year and county\n",
    "    \"\"\"\n",
    "\n",
    "    df = pd.read_csv('../data/crash-merged/{}.csv'.format(year))\n",
    "    accWA = folium.Map([df.lat.median(), df.lon.median()],\n",
    "                   tiles = '',\n",
    "                   prefer_canvas=True,\n",
    "                   zoom_start=8)\n",
    "    folium.TileLayer('cartodbpositron', name = 'bright').add_to(accWA)\n",
    "\n",
    "    df = df[df.COUNTY == county]\n",
    "\n",
    "\n",
    "    for _, row in df.iterrows():\n",
    "        assert row.COUNTY == county\n",
    "        # define circle color by severity\n",
    "        if row.REPORT == 2:\n",
    "            # injury\n",
    "            cirleColor = \"#007849\" \n",
    "        elif row.REPORT == 3: \n",
    "            # fatal\n",
    "            cirleColor = 'red'\n",
    "        else:\n",
    "            # just property damage\n",
    "            cirleColor = 'steelblue'\n",
    "\n",
    "        # define circle radius by severity\n",
    "        if row.REPORT == 1:\n",
    "            # property\n",
    "            cirleRadius = 4\n",
    "        elif row.REPORT == 2:\n",
    "            # injury\n",
    "            cirleRadius = 8\n",
    "        else:\n",
    "            # fatal\n",
    "            cirleRadius = 12\n",
    "        # cirlRadius = max(row['# INJ'], row['# FAT']) * 3\n",
    "\n",
    "        folium.CircleMarker([row.lat, row.lon],\n",
    "                            radius=cirleRadius,\n",
    "                            popup=folium.Popup(\"{}, {}\".format(row.FORM_REPT_NO,\n",
    "                                                               severity_dict[row.REPORT]), max_width=150),\n",
    "                            # fill_color=\"#3db7e4\",\n",
    "                            # color=cirlColor,\n",
    "                            weight = 0.2,\n",
    "                            fill_color=cirleColor,\n",
    "                            fill=True,\n",
    "                            fill_opacity=0.4\n",
    "                     ).add_to(accWA)\n",
    "    \n",
    "    accWA.save(map_sink)\n",
    "    return accWA"
   ]
  },
  {
   "cell_type": "code",
   "execution_count": 31,
   "metadata": {
    "ExecuteTime": {
     "end_time": "2019-12-08T18:56:42.236591Z",
     "start_time": "2019-12-08T18:56:15.150123Z"
    }
   },
   "outputs": [],
   "source": [
    "_ = plot_basic(2017, 17, \"test.html\")"
   ]
  },
  {
   "cell_type": "code",
   "execution_count": 34,
   "metadata": {
    "ExecuteTime": {
     "end_time": "2019-12-08T19:05:33.357382Z",
     "start_time": "2019-12-08T19:05:33.324706Z"
    }
   },
   "outputs": [],
   "source": [
    "def plot_layer_by_year(county, map_sink):\n",
    "    \"\"\"\n",
    "    with specified county\n",
    "    \"\"\"\n",
    "\n",
    "    # read data\n",
    "    df = pd.read_csv('../data/crash-merged/2013.csv')\n",
    "    accWA = folium.Map([df.lat.median(), df.lon.median()],\n",
    "                   tiles = '',\n",
    "                   prefer_canvas=True,\n",
    "                   zoom_start=8)\n",
    "    folium.TileLayer('cartodbpositron', name = 'bright').add_to(accWA)\n",
    "\n",
    "    # add tile layer\n",
    "    folium.TileLayer('cartodbpositron', name = 'bright').add_to(accWA)\n",
    "    folium.TileLayer('CartoDB dark_matter', name = 'dark').add_to(accWA)\n",
    "    \n",
    "    # create crash layer\n",
    "    crashes = []\n",
    "    for year in range(2013, 2018):\n",
    "        \n",
    "        df = pd.read_csv('../data/crash-merged/{}.csv'.format(year))\n",
    "        df = df[df.COUNTY == county]\n",
    "        \n",
    "        # individual crashes\n",
    "        yrCrash = folium.FeatureGroup(name=str(year) + '_Crashes', show=False)\n",
    "        crashes.append(yrCrash)\n",
    "        accWA.add_child(crashes[-1])\n",
    "        \n",
    "        # add crashe events to their layers\n",
    "        for _, row in df.iterrows():\n",
    "            \n",
    "            assert row.COUNTY == county\n",
    "            # define circle color by severity\n",
    "            if row.REPORT == 2:\n",
    "                # injury\n",
    "                cirleColor = \"#007849\" \n",
    "            elif row.REPORT == 3: \n",
    "                # fatal\n",
    "                cirleColor = 'red'\n",
    "            else:\n",
    "                # just property damage\n",
    "                cirleColor = 'steelblue'\n",
    "\n",
    "            # define circle radius by severity\n",
    "            if row.REPORT == 1:\n",
    "                # property\n",
    "                cirleRadius = 4\n",
    "            elif row.REPORT == 2:\n",
    "                # injury\n",
    "                cirleRadius = 8\n",
    "            else:\n",
    "                # fatal\n",
    "                cirleRadius = 12\n",
    "            # cirlRadius = max(row['# INJ'], row['# FAT']) * 3\n",
    "\n",
    "            folium.CircleMarker([row.lat, row.lon],\n",
    "                                radius=cirleRadius,\n",
    "                                popup=folium.Popup(\"{}, {}\".format(row.FORM_REPT_NO,\n",
    "                                                                   severity_dict[row.REPORT]), max_width=150),\n",
    "                                # fill_color=\"#3db7e4\",\n",
    "                                # color=cirlColor,\n",
    "                                weight = 0.2,\n",
    "                                fill_color=cirleColor,\n",
    "                                fill=True,\n",
    "                                fill_opacity=0.4\n",
    "                         ).add_to(crashes[-1])\n",
    "    \n",
    "        \n",
    "\n",
    "    # add layer control\n",
    "    folium.LayerControl().add_to(accWA)\n",
    "            \n",
    "    # save map\n",
    "    accWA.save(map_sink)\n",
    "    \n",
    "    return accWA"
   ]
  },
  {
   "cell_type": "code",
   "execution_count": 35,
   "metadata": {
    "ExecuteTime": {
     "end_time": "2019-12-08T19:08:23.256943Z",
     "start_time": "2019-12-08T19:05:51.939828Z"
    }
   },
   "outputs": [],
   "source": [
    "_ = plot_layer_by_year(17, \"test.html\")"
   ]
  },
  {
   "cell_type": "code",
   "execution_count": null,
   "metadata": {},
   "outputs": [],
   "source": []
  },
  {
   "cell_type": "code",
   "execution_count": 40,
   "metadata": {
    "ExecuteTime": {
     "end_time": "2019-12-08T19:13:40.992552Z",
     "start_time": "2019-12-08T19:13:40.973076Z"
    }
   },
   "outputs": [],
   "source": [
    "def plot_cluster(map_sink):\n",
    "    \"\"\"\n",
    "    for cluster\n",
    "    \"\"\"\n",
    "    \n",
    "    # start the map at roughly the center of WA state\n",
    "    accWA = folium.Map([47.303495, -120.819109],\n",
    "                   tiles = '',\n",
    "                   prefer_canvas=True,\n",
    "                   zoom_start=8)\n",
    "    folium.TileLayer('cartodbpositron', name = 'bright').add_to(accWA)\n",
    "\n",
    "    # add tile layer\n",
    "    folium.TileLayer('cartodbpositron', name = 'bright').add_to(accWA)\n",
    "    folium.TileLayer('CartoDB dark_matter', name = 'dark').add_to(accWA)\n",
    "    \n",
    "    # create crash layer\n",
    "    crashes = []\n",
    "    clusters = []\n",
    "    for year in range(2013, 2018):\n",
    "        \n",
    "        df = pd.read_csv('../data/crash-merged/{}.csv'.format(year))\n",
    "        \n",
    "        # create cluster layer\n",
    "        yrClust = folium.FeatureGroup(name=str(year) + '_Clusters', show=False)\n",
    "        clusters.append(yrClust)\n",
    "        accWA.add_child(clusters[-1])\n",
    "\n",
    "        # add cluster layer to feature group\n",
    "        marClst = folium.plugins.FastMarkerCluster(\n",
    "            data=list(zip(df.lat.values, df.lon.values))\n",
    "        ).add_to(clusters[-1])\n",
    "        \n",
    "\n",
    "    # add layer control\n",
    "    folium.LayerControl().add_to(accWA)\n",
    "            \n",
    "    # save map\n",
    "    accWA.save(map_sink)\n",
    "    \n",
    "    return accWA"
   ]
  },
  {
   "cell_type": "code",
   "execution_count": 42,
   "metadata": {
    "ExecuteTime": {
     "end_time": "2019-12-08T19:13:58.347304Z",
     "start_time": "2019-12-08T19:13:54.334753Z"
    }
   },
   "outputs": [],
   "source": [
    "_ = plot_cluster(\"test.html\")"
   ]
  },
  {
   "cell_type": "code",
   "execution_count": null,
   "metadata": {},
   "outputs": [],
   "source": []
  }
 ],
 "metadata": {
  "anaconda-cloud": {},
  "celltoolbar": "Slideshow",
  "kernelspec": {
   "display_name": "Python 3",
   "language": "python",
   "name": "python3"
  },
  "language_info": {
   "codemirror_mode": {
    "name": "ipython",
    "version": 3
   },
   "file_extension": ".py",
   "mimetype": "text/x-python",
   "name": "python",
   "nbconvert_exporter": "python",
   "pygments_lexer": "ipython3",
   "version": "3.6.2"
  }
 },
 "nbformat": 4,
 "nbformat_minor": 2
}
