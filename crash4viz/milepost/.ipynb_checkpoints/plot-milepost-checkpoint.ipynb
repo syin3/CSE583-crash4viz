{
 "cells": [
  {
   "cell_type": "code",
   "execution_count": null,
   "metadata": {},
   "outputs": [],
   "source": [
    "'''\n",
    "plot-milepost.py\n",
    "plots the milepost markers on map\n",
    "'''"
   ]
  },
  {
   "cell_type": "markdown",
   "metadata": {},
   "source": [
    "### import"
   ]
  },
  {
   "cell_type": "code",
   "execution_count": 4,
   "metadata": {
    "ExecuteTime": {
     "end_time": "2019-12-07T22:54:02.719231Z",
     "start_time": "2019-12-07T22:54:02.714487Z"
    }
   },
   "outputs": [],
   "source": [
    "import numpy as np\n",
    "import shapefile as shp\n",
    "import folium"
   ]
  },
  {
   "cell_type": "markdown",
   "metadata": {},
   "source": [
    "### plot"
   ]
  },
  {
   "cell_type": "code",
   "execution_count": 5,
   "metadata": {
    "ExecuteTime": {
     "end_time": "2019-12-07T22:54:03.535852Z",
     "start_time": "2019-12-07T22:54:03.523385Z"
    }
   },
   "outputs": [],
   "source": [
    "def plotMilePost(mile_shapefile, mapSaveLoc):\n",
    "    '''\n",
    "    @param mile_shapefile: shape file of original data\n",
    "    @param mapSaveLoc: saving destination of generated folium map\n",
    "    @output waMilePost: milepost folium map in html format\n",
    "    '''\n",
    "    \n",
    "    # read shape file\n",
    "    milepost = shp.Reader(mile_shapefile)\n",
    "    \n",
    "    # read lat, lon\n",
    "    # be careful which is lat, which is lng\n",
    "    x = []\n",
    "    y = []\n",
    "\n",
    "    for shape in milepost.shapeRecords():\n",
    "        for i in shape.shape.points[:]:\n",
    "            x.append(i[0])\n",
    "            y.append(i[1])\n",
    "\n",
    "    # create map background\n",
    "    waMilePost = folium.Map([np.median(np.array(y)), np.median(np.array(x))],\n",
    "               # tiles=\"cartodbpositron\",\n",
    "               tiles='',\n",
    "               # width='80%',\n",
    "               # height='80%',\n",
    "               prefer_canvas=True,\n",
    "               zoom_start=7)\n",
    "    \n",
    "    folium.TileLayer('cartodbpositron', name = 'bright').add_to(waMilePost)\n",
    "    \n",
    "    # add layer of milepost points\n",
    "    milepostLayer = folium.FeatureGroup(name='mileposts', show=False)\n",
    "    waMilePost.add_child(milepostLayer)\n",
    "\n",
    "    # plot the mileposts on the map\n",
    "    # honestly, we don't knwo verbal info of the points\n",
    "    for i in range(len(x)):\n",
    "        folium.CircleMarker([y[i], x[i]],\n",
    "                    radius=2,\n",
    "                    popup=folium.Popup(\"milepost {}\".format(3), max_width=150),\n",
    "                    # fill_color=\"#3db7e4\",\n",
    "                    # color='red',\n",
    "                    weight = 0.1,\n",
    "                    fill_color='yaleblue',\n",
    "                    fill=True,\n",
    "                    fill_opacity=0.4\n",
    "             ).add_to(milepostLayer)\n",
    "    \n",
    "    # add layer control\n",
    "    folium.LayerControl().add_to(waMilePost)\n",
    "    \n",
    "    # save and return\n",
    "    waMilePost.save(mapSaveLoc)\n",
    "    \n",
    "    return waMilePost"
   ]
  },
  {
   "cell_type": "markdown",
   "metadata": {},
   "source": [
    "### use case"
   ]
  },
  {
   "cell_type": "code",
   "execution_count": 6,
   "metadata": {
    "ExecuteTime": {
     "end_time": "2019-12-07T22:54:15.294207Z",
     "start_time": "2019-12-07T22:54:04.129104Z"
    }
   },
   "outputs": [],
   "source": [
    "_ = plotMilePost('../../data/milepost/SRMilepostMarkers.shp', '../../outputs/waMilePost.html')"
   ]
  },
  {
   "cell_type": "code",
   "execution_count": null,
   "metadata": {},
   "outputs": [],
   "source": []
  }
 ],
 "metadata": {
  "kernelspec": {
   "display_name": "Python 3",
   "language": "python",
   "name": "python3"
  },
  "language_info": {
   "codemirror_mode": {
    "name": "ipython",
    "version": 3
   },
   "file_extension": ".py",
   "mimetype": "text/x-python",
   "name": "python",
   "nbconvert_exporter": "python",
   "pygments_lexer": "ipython3",
   "version": "3.6.2"
  }
 },
 "nbformat": 4,
 "nbformat_minor": 2
}
