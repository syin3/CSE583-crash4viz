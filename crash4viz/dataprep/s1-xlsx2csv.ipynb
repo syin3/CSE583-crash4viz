{
 "cells": [
  {
   "cell_type": "code",
   "execution_count": null,
   "metadata": {},
   "outputs": [],
   "source": [
    "'''\n",
    "xslx2csv.py\n",
    "Converts datasets in xslx format to csv in the given directory\n",
    "'''"
   ]
  },
  {
   "cell_type": "code",
   "execution_count": 7,
   "metadata": {
    "ExecuteTime": {
     "end_time": "2019-12-07T21:32:08.105685Z",
     "start_time": "2019-12-07T21:32:08.093096Z"
    }
   },
   "outputs": [],
   "source": [
    "import os\n",
    "import pandas as pd"
   ]
  },
  {
   "cell_type": "code",
   "execution_count": 8,
   "metadata": {
    "ExecuteTime": {
     "end_time": "2019-12-07T21:32:08.251919Z",
     "start_time": "2019-12-07T21:32:08.245182Z"
    }
   },
   "outputs": [
    {
     "name": "stdout",
     "output_type": "stream",
     "text": [
      "Found 30 target file(s) in the current folder...\n",
      "\n"
     ]
    }
   ],
   "source": [
    "file_list = []\n",
    "for file in os.listdir(\"../../data/hsis\"):\n",
    "    if file.endswith(\".xlsx\"):\n",
    "        file_list.append(file)\n",
    "print('Found {} target file(s) in the current folder...\\n'.format(len(file_list)))\n",
    "\n",
    "file_list = sorted(file_list, reverse=True)"
   ]
  },
  {
   "cell_type": "code",
   "execution_count": 15,
   "metadata": {
    "ExecuteTime": {
     "end_time": "2019-12-07T21:47:11.009504Z",
     "start_time": "2019-12-07T21:42:25.884619Z"
    }
   },
   "outputs": [
    {
     "name": "stdout",
     "output_type": "stream",
     "text": [
      "Finished file: wa17veh.xlsx\n",
      "Finished file: wa17road.xlsx\n",
      "Finished file: wa17occ.xlsx\n",
      "Finished file: wa17grad.xlsx\n",
      "Finished file: wa17curv.xlsx\n",
      "Finished file: wa17acc.xlsx\n",
      "Finished file: wa16veh.xlsx\n",
      "Finished file: wa16road.xlsx\n",
      "Finished file: wa16occ.xlsx\n",
      "Finished file: wa16grad.xlsx\n",
      "Finished file: wa16curv.xlsx\n",
      "Finished file: wa16acc.xlsx\n",
      "Finished file: wa15veh.xlsx\n",
      "Finished file: wa15road.xlsx\n",
      "Finished file: wa15occ.xlsx\n",
      "Finished file: wa15grad.xlsx\n",
      "Finished file: wa15curv.xlsx\n",
      "Finished file: wa15acc.xlsx\n",
      "Finished file: wa14veh.xlsx\n",
      "Finished file: wa14road.xlsx\n",
      "Finished file: wa14occ.xlsx\n",
      "Finished file: wa14grad.xlsx\n",
      "Finished file: wa14curv.xlsx\n",
      "Finished file: wa14acc.xlsx\n",
      "Finished file: wa13veh.xlsx\n",
      "Finished file: wa13road.xlsx\n",
      "Finished file: wa13occ.xlsx\n",
      "Finished file: wa13grad.xlsx\n",
      "Finished file: wa13curv.xlsx\n",
      "Finished file: wa13acc.xlsx\n"
     ]
    }
   ],
   "source": [
    "attributes = {}\n",
    "for file in file_list:\n",
    "    curr = pd.read_excel('../../data/hsis/' + file)\n",
    "    if '17' in file:\n",
    "        attributes[file.split('.')[0][4:]] = list(curr.columns)\n",
    "    curr.columns = attributes[file.split('.')[0][4:]]\n",
    "    curr.to_csv('../../data/hsis-csv/' + file.split('.')[0] + '.csv', index=False)\n",
    "    print('Finished file: {}'.format(file))"
   ]
  },
  {
   "cell_type": "code",
   "execution_count": null,
   "metadata": {},
   "outputs": [],
   "source": []
  }
 ],
 "metadata": {
  "kernelspec": {
   "display_name": "Python 3",
   "language": "python",
   "name": "python3"
  },
  "language_info": {
   "codemirror_mode": {
    "name": "ipython",
    "version": 3
   },
   "file_extension": ".py",
   "mimetype": "text/x-python",
   "name": "python",
   "nbconvert_exporter": "python",
   "pygments_lexer": "ipython3",
   "version": "3.6.2"
  }
 },
 "nbformat": 4,
 "nbformat_minor": 2
}
