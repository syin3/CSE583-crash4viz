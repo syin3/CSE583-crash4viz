{
 "cells": [
  {
   "cell_type": "code",
   "execution_count": null,
   "metadata": {
    "ExecuteTime": {
     "end_time": "2019-12-04T06:17:38.127117Z",
     "start_time": "2019-12-04T06:17:38.112518Z"
    }
   },
   "outputs": [],
   "source": [
    "'''\n",
    "wrangle-hsis-data.py\n",
    "Usage: reads and merges HSIS data for designated years\n",
    "'''"
   ]
  },
  {
   "cell_type": "markdown",
   "metadata": {},
   "source": [
    "### import"
   ]
  },
  {
   "cell_type": "code",
   "execution_count": 51,
   "metadata": {
    "ExecuteTime": {
     "end_time": "2019-12-07T03:45:01.375402Z",
     "start_time": "2019-12-07T03:45:01.370292Z"
    }
   },
   "outputs": [],
   "source": [
    "import random\n",
    "import time\n",
    "\n",
    "import pandas as pd\n",
    "import numpy as np\n",
    "import sqlite3\n",
    "\n",
    "from matplotlib import pyplot as plt\n",
    "from matplotlib.pyplot import rc\n",
    "\n",
    "import shapefile as shp\n",
    "import folium"
   ]
  },
  {
   "cell_type": "markdown",
   "metadata": {},
   "source": [
    "### NNNN - don't execute - Check coordinates\n",
    "We can confirm \n",
    "+ HSIS data has more records than CSET, probably because CSET focuses on rural areas, while HSIS has both RURAL & URBAN;\n",
    "+ HSIS coordinates are the same with CSET, no records have X, Y difference larger than 1e-9;\n",
    "\n",
    "\n",
    "Output: **wa17acc_latlng.csv**. *No need to do this conversion step again*"
   ]
  },
  {
   "cell_type": "markdown",
   "metadata": {
    "heading_collapsed": true
   },
   "source": [
    "#### read and merge HSIS and CSET"
   ]
  },
  {
   "cell_type": "code",
   "execution_count": 3,
   "metadata": {
    "ExecuteTime": {
     "end_time": "2019-12-07T02:59:13.427521Z",
     "start_time": "2019-12-07T02:58:54.377637Z"
    },
    "hidden": true
   },
   "outputs": [
    {
     "data": {
      "text/html": [
       "<div>\n",
       "<style scoped>\n",
       "    .dataframe tbody tr th:only-of-type {\n",
       "        vertical-align: middle;\n",
       "    }\n",
       "\n",
       "    .dataframe tbody tr th {\n",
       "        vertical-align: top;\n",
       "    }\n",
       "\n",
       "    .dataframe thead th {\n",
       "        text-align: right;\n",
       "    }\n",
       "</style>\n",
       "<table border=\"1\" class=\"dataframe\">\n",
       "  <thead>\n",
       "    <tr style=\"text-align: right;\">\n",
       "      <th></th>\n",
       "      <th>REPORT NUMBER</th>\n",
       "      <th>YEAR</th>\n",
       "      <th>X_full</th>\n",
       "      <th>Y_full</th>\n",
       "    </tr>\n",
       "  </thead>\n",
       "  <tbody>\n",
       "    <tr>\n",
       "      <th>0</th>\n",
       "      <td>E627527</td>\n",
       "      <td>2017</td>\n",
       "      <td>1041008.91</td>\n",
       "      <td>428924.73</td>\n",
       "    </tr>\n",
       "    <tr>\n",
       "      <th>1</th>\n",
       "      <td>E628124</td>\n",
       "      <td>2017</td>\n",
       "      <td>1475667.71</td>\n",
       "      <td>691747.63</td>\n",
       "    </tr>\n",
       "    <tr>\n",
       "      <th>2</th>\n",
       "      <td>E630351</td>\n",
       "      <td>2017</td>\n",
       "      <td>2424216.82</td>\n",
       "      <td>579569.52</td>\n",
       "    </tr>\n",
       "    <tr>\n",
       "      <th>3</th>\n",
       "      <td>E633194</td>\n",
       "      <td>2017</td>\n",
       "      <td>2475616.25</td>\n",
       "      <td>525827.20</td>\n",
       "    </tr>\n",
       "    <tr>\n",
       "      <th>4</th>\n",
       "      <td>E632431</td>\n",
       "      <td>2017</td>\n",
       "      <td>1742710.63</td>\n",
       "      <td>165973.98</td>\n",
       "    </tr>\n",
       "  </tbody>\n",
       "</table>\n",
       "</div>"
      ],
      "text/plain": [
       "  REPORT NUMBER  YEAR      X_full     Y_full\n",
       "0       E627527  2017  1041008.91  428924.73\n",
       "1       E628124  2017  1475667.71  691747.63\n",
       "2       E630351  2017  2424216.82  579569.52\n",
       "3       E633194  2017  2475616.25  525827.20\n",
       "4       E632431  2017  1742710.63  165973.98"
      ]
     },
     "execution_count": 3,
     "metadata": {},
     "output_type": "execute_result"
    }
   ],
   "source": [
    "acc_file = './hsis/wa17acc.xlsx'\n",
    "acc = pd.read_excel(acc_file)\n",
    "\n",
    "columns = ['FORM_REPT_NO', 'ACCYR', 'State_Plane_X', 'State_Plane_Y']\n",
    "acc = acc[columns]\n",
    "acc.columns = ['REPORT NUMBER', 'YEAR', 'X_full', 'Y_full']\n",
    "acc.head()"
   ]
  },
  {
   "cell_type": "code",
   "execution_count": null,
   "metadata": {
    "ExecuteTime": {
     "end_time": "2019-12-06T03:10:31.889567Z",
     "start_time": "2019-12-06T03:10:30.821363Z"
    },
    "hidden": true
   },
   "outputs": [],
   "source": [
    "cset = pd.read_csv('../tech/WA_Rural_St_RtesCrashes_Full.csv')\n",
    "\n",
    "cset['YEAR'] = pd.to_datetime(cset['DATE']).dt.year\n",
    "columns = ['REPORT NUMBER', 'YEAR', 'WA STATE PLANE SOUTH - X 2010 - FORWARD', 'WA STATE PLANE SOUTH - Y 2010 - FORWARD']\n",
    "cset = cset[columns]\n",
    "cset.columns = ['REPORT NUMBER', 'YEAR', 'X_cset', 'Y_cset']\n",
    "\n",
    "cset = cset[cset['YEAR'] == 2017].reset_index(drop=True)\n",
    "print('Num of records in CSET 2017: {}\\n'.format(cset.shape[0]))\n",
    "cset.head(5)"
   ]
  },
  {
   "cell_type": "code",
   "execution_count": null,
   "metadata": {
    "ExecuteTime": {
     "end_time": "2019-12-06T03:10:31.989239Z",
     "start_time": "2019-12-06T03:10:31.897986Z"
    },
    "hidden": true
   },
   "outputs": [],
   "source": [
    "res = acc.merge(cset, on=['REPORT NUMBER', 'YEAR'], how='inner')\n",
    "res.head()"
   ]
  },
  {
   "cell_type": "markdown",
   "metadata": {
    "heading_collapsed": true
   },
   "source": [
    "#### No records have larger coords difference of X than 1e-9"
   ]
  },
  {
   "cell_type": "code",
   "execution_count": null,
   "metadata": {
    "ExecuteTime": {
     "end_time": "2019-12-06T01:17:54.612503Z",
     "start_time": "2019-12-06T01:17:54.599703Z"
    },
    "hidden": true
   },
   "outputs": [],
   "source": [
    "res[res['X_full'] - res['X_cset'] > 1e-9]"
   ]
  },
  {
   "cell_type": "markdown",
   "metadata": {
    "heading_collapsed": true
   },
   "source": [
    "#### No records have larger coords difference of Y than 1e-9"
   ]
  },
  {
   "cell_type": "code",
   "execution_count": null,
   "metadata": {
    "ExecuteTime": {
     "end_time": "2019-12-06T03:10:36.352753Z",
     "start_time": "2019-12-06T03:10:36.335914Z"
    },
    "hidden": true
   },
   "outputs": [],
   "source": [
    "res[res['Y_full'] - res['Y_cset'] > 1e-9]"
   ]
  },
  {
   "cell_type": "markdown",
   "metadata": {
    "heading_collapsed": true
   },
   "source": [
    "#### 2017 crashes has NaN values???\n",
    "yes, discard them!"
   ]
  },
  {
   "cell_type": "code",
   "execution_count": null,
   "metadata": {
    "ExecuteTime": {
     "end_time": "2019-12-06T03:10:38.746290Z",
     "start_time": "2019-12-06T03:10:38.730934Z"
    },
    "hidden": true
   },
   "outputs": [],
   "source": [
    "acc[acc.isna().any(axis=1)].head()"
   ]
  },
  {
   "cell_type": "markdown",
   "metadata": {
    "heading_collapsed": true
   },
   "source": [
    "#### output X,Y of HSIS for conversion\n",
    "dropped 26 entries with missing X,Y info"
   ]
  },
  {
   "cell_type": "code",
   "execution_count": null,
   "metadata": {
    "ExecuteTime": {
     "end_time": "2019-12-06T03:10:41.311851Z",
     "start_time": "2019-12-06T03:10:41.259173Z"
    },
    "hidden": true
   },
   "outputs": [],
   "source": [
    "acc = acc.dropna(subset=['X_full', 'Y_full']).reset_index()"
   ]
  },
  {
   "cell_type": "code",
   "execution_count": null,
   "metadata": {
    "ExecuteTime": {
     "end_time": "2019-12-06T03:10:42.331549Z",
     "start_time": "2019-12-06T03:10:42.312759Z"
    },
    "hidden": true
   },
   "outputs": [],
   "source": [
    "output = acc[['Y_full', 'X_full']]\n",
    "output.columns = ['northing', 'easting']\n",
    "output['zone'] = 4602\n",
    "output['units'] = 'usft'\n",
    "output['inDatum'] = 'NAD83(2011)'\n",
    "output['outDatum'] = 'NAD83(2011)'\n",
    "output['utmZone'] = 'auto'\n",
    "output['eht'] = 'N/A'\n",
    "output['ID'] = output.index + 1"
   ]
  },
  {
   "cell_type": "code",
   "execution_count": null,
   "metadata": {
    "ExecuteTime": {
     "end_time": "2019-12-06T03:10:42.781204Z",
     "start_time": "2019-12-06T03:10:42.733020Z"
    },
    "hidden": true
   },
   "outputs": [],
   "source": [
    "output = output[['ID', 'zone', 'northing', 'easting', 'units', 'inDatum', 'outDatum', 'utmZone', 'eht']]\n",
    "output"
   ]
  },
  {
   "cell_type": "code",
   "execution_count": null,
   "metadata": {
    "ExecuteTime": {
     "end_time": "2019-12-06T03:10:44.136889Z",
     "start_time": "2019-12-06T03:10:43.689353Z"
    },
    "hidden": true
   },
   "outputs": [],
   "source": [
    "for i in range(output.shape[0] // 4000):\n",
    "    output[(i*4000):((i+1)*4000)].to_csv('coords_2017_{}.csv'.format(i), index=None, sep=',')\n",
    "output[((i+1)*4000):].to_csv('coords_2017_{}.csv'.format(i+1), index=None, sep=',')"
   ]
  },
  {
   "cell_type": "markdown",
   "metadata": {},
   "source": [
    "#### read in noaa conversion result"
   ]
  },
  {
   "cell_type": "code",
   "execution_count": null,
   "metadata": {
    "ExecuteTime": {
     "end_time": "2019-12-06T04:55:39.866915Z",
     "start_time": "2019-12-06T04:55:39.082437Z"
    }
   },
   "outputs": [],
   "source": [
    "columns = ['ID', 'destLat', 'destLon']\n",
    "\n",
    "acc_coords = pd.read_csv('coords (1).csv')\n",
    "acc_coords = acc_coords[columns]\n",
    "for file in ['coords (2).csv', 'coords (3).csv', 'coords (4).csv']:\n",
    "    tmp = pd.read_csv(file)\n",
    "    tmp = tmp[columns]\n",
    "    acc_coords = acc_coords.append(tmp).reset_index(drop=True)"
   ]
  },
  {
   "cell_type": "code",
   "execution_count": null,
   "metadata": {
    "ExecuteTime": {
     "end_time": "2019-12-06T04:55:39.886520Z",
     "start_time": "2019-12-06T04:55:39.870603Z"
    }
   },
   "outputs": [],
   "source": [
    "acc_coords.columns = ['ID', 'lat', 'lon']"
   ]
  },
  {
   "cell_type": "code",
   "execution_count": null,
   "metadata": {
    "ExecuteTime": {
     "end_time": "2019-12-06T04:55:43.734974Z",
     "start_time": "2019-12-06T04:55:43.723739Z"
    }
   },
   "outputs": [],
   "source": [
    "acc_coords.shape"
   ]
  },
  {
   "cell_type": "markdown",
   "metadata": {},
   "source": [
    "#### incorporate noaa conversion"
   ]
  },
  {
   "cell_type": "code",
   "execution_count": null,
   "metadata": {
    "ExecuteTime": {
     "end_time": "2019-12-06T04:56:30.561705Z",
     "start_time": "2019-12-06T04:56:11.188745Z"
    }
   },
   "outputs": [],
   "source": [
    "acc_file = './hsis/wa17acc.xlsx'\n",
    "acc = pd.read_excel(acc_file)\n",
    "\n",
    "acc = acc.dropna(subset=['State_Plane_X', 'State_Plane_Y'])\n",
    "acc['ID'] = acc.index + 1"
   ]
  },
  {
   "cell_type": "code",
   "execution_count": null,
   "metadata": {
    "ExecuteTime": {
     "end_time": "2019-12-06T04:56:30.628556Z",
     "start_time": "2019-12-06T04:56:30.564542Z"
    }
   },
   "outputs": [],
   "source": [
    "acc = acc.merge(acc_coords, on='ID', how='inner')"
   ]
  },
  {
   "cell_type": "code",
   "execution_count": null,
   "metadata": {
    "ExecuteTime": {
     "end_time": "2019-12-06T04:56:32.105627Z",
     "start_time": "2019-12-06T04:56:30.631815Z"
    }
   },
   "outputs": [],
   "source": [
    "acc.to_csv('wa17acc_latlng.csv')"
   ]
  },
  {
   "cell_type": "code",
   "execution_count": null,
   "metadata": {
    "ExecuteTime": {
     "end_time": "2019-12-06T04:56:32.114335Z",
     "start_time": "2019-12-06T04:56:32.108442Z"
    }
   },
   "outputs": [],
   "source": [
    "acc.columns"
   ]
  },
  {
   "cell_type": "markdown",
   "metadata": {},
   "source": [
    "### read"
   ]
  },
  {
   "cell_type": "markdown",
   "metadata": {
    "heading_collapsed": true
   },
   "source": [
    "#### milepost"
   ]
  },
  {
   "cell_type": "code",
   "execution_count": null,
   "metadata": {
    "ExecuteTime": {
     "end_time": "2019-12-06T04:57:56.117837Z",
     "start_time": "2019-12-06T04:57:56.105390Z"
    },
    "hidden": true
   },
   "outputs": [],
   "source": [
    "def plotMilePost(mile_shapefile, mapSaveLoc):\n",
    "    '''\n",
    "    @param mile_shapefile: shape file of original data\n",
    "    @param mapSaveLoc: saving destination of generated folium map\n",
    "    '''\n",
    "    \n",
    "    # read shape file\n",
    "    milepost = shp.Reader(mile_shapefile)\n",
    "    \n",
    "    # read lat, lon\n",
    "    # be careful which is lat, which is lng\n",
    "    x = []\n",
    "    y = []\n",
    "\n",
    "    for shape in milepost.shapeRecords():\n",
    "        for i in shape.shape.points[:]:\n",
    "            x.append(i[0])\n",
    "            y.append(i[1])\n",
    "\n",
    "    # create map background\n",
    "    waMilePost = folium.Map([np.median(np.array(y)), np.median(np.array(x))],\n",
    "               # tiles=\"cartodbpositron\",\n",
    "               tiles='',\n",
    "               # width='80%',\n",
    "               # height='80%',\n",
    "               prefer_canvas=True,\n",
    "               zoom_start=7)\n",
    "    \n",
    "    folium.TileLayer('cartodbpositron', name = 'bright').add_to(waMilePost)\n",
    "    \n",
    "    # add layer of milepost points\n",
    "    milepostLayer = folium.FeatureGroup(name='mileposts', show=False)\n",
    "    waMilePost.add_child(milepostLayer)\n",
    "\n",
    "    # plot the mileposts on the map\n",
    "    # honestly, we don't knwo verbal info of the points\n",
    "    for i in range(len(x)):\n",
    "        folium.CircleMarker([y[i], x[i]],\n",
    "                    radius=2,\n",
    "                    popup=folium.Popup(\"milepost {}\".format(3), max_width=150),\n",
    "                    # fill_color=\"#3db7e4\",\n",
    "                    # color='red',\n",
    "                    weight = 0.1,\n",
    "                    fill_color='yaleblue',\n",
    "                    fill=True,\n",
    "                    fill_opacity=0.4\n",
    "             ).add_to(milepostLayer)\n",
    "    \n",
    "    # add layer control\n",
    "    folium.LayerControl().add_to(waMilePost)\n",
    "    \n",
    "    # save and return\n",
    "    waMilePost.save(mapSaveLoc)\n",
    "    \n",
    "    return waMilePost"
   ]
  },
  {
   "cell_type": "code",
   "execution_count": null,
   "metadata": {
    "ExecuteTime": {
     "end_time": "2019-12-04T07:35:23.695204Z",
     "start_time": "2019-12-04T07:35:05.773519Z"
    },
    "hidden": true
   },
   "outputs": [],
   "source": [
    "_ = plotMilePost('./milepost/SRMilepostMarkers.shp', 'waMilePost.html')"
   ]
  },
  {
   "cell_type": "markdown",
   "metadata": {
    "heading_collapsed": true
   },
   "source": [
    "#### accident"
   ]
  },
  {
   "cell_type": "code",
   "execution_count": 2,
   "metadata": {
    "ExecuteTime": {
     "end_time": "2019-12-06T20:42:50.292081Z",
     "start_time": "2019-12-06T20:42:50.002179Z"
    },
    "hidden": true
   },
   "outputs": [],
   "source": [
    "acc_file = 'wa17acc_latlng.csv'\n",
    "acc = pd.read_csv(acc_file)\n",
    "acc = acc.dropna(subset=['lat', 'lon'])"
   ]
  },
  {
   "cell_type": "code",
   "execution_count": 3,
   "metadata": {
    "ExecuteTime": {
     "end_time": "2019-12-06T20:42:50.302439Z",
     "start_time": "2019-12-06T20:42:50.294886Z"
    },
    "hidden": true
   },
   "outputs": [],
   "source": [
    "columns = ['CASENO', 'FORM_REPT_NO', 'rd_inv', 'milepost', 'RTE_NBR',\n",
    "           'lat', 'lon', \n",
    "           'MONTH', 'DAYMTH', 'WEEKDAY', \n",
    "           'RDSURF', 'LIGHT', 'weather', 'rur_urb',\n",
    "           'REPORT', 'SEVERITY']"
   ]
  },
  {
   "cell_type": "code",
   "execution_count": 4,
   "metadata": {
    "ExecuteTime": {
     "end_time": "2019-12-06T20:42:50.358797Z",
     "start_time": "2019-12-06T20:42:50.345087Z"
    },
    "hidden": true
   },
   "outputs": [],
   "source": [
    "acc = acc[columns]"
   ]
  },
  {
   "cell_type": "code",
   "execution_count": 5,
   "metadata": {
    "ExecuteTime": {
     "end_time": "2019-12-06T20:42:50.516456Z",
     "start_time": "2019-12-06T20:42:50.486965Z"
    },
    "hidden": true
   },
   "outputs": [
    {
     "data": {
      "text/html": [
       "<div>\n",
       "<style scoped>\n",
       "    .dataframe tbody tr th:only-of-type {\n",
       "        vertical-align: middle;\n",
       "    }\n",
       "\n",
       "    .dataframe tbody tr th {\n",
       "        vertical-align: top;\n",
       "    }\n",
       "\n",
       "    .dataframe thead th {\n",
       "        text-align: right;\n",
       "    }\n",
       "</style>\n",
       "<table border=\"1\" class=\"dataframe\">\n",
       "  <thead>\n",
       "    <tr style=\"text-align: right;\">\n",
       "      <th></th>\n",
       "      <th>CASENO</th>\n",
       "      <th>FORM_REPT_NO</th>\n",
       "      <th>rd_inv</th>\n",
       "      <th>milepost</th>\n",
       "      <th>RTE_NBR</th>\n",
       "      <th>lat</th>\n",
       "      <th>lon</th>\n",
       "      <th>MONTH</th>\n",
       "      <th>DAYMTH</th>\n",
       "      <th>WEEKDAY</th>\n",
       "      <th>RDSURF</th>\n",
       "      <th>LIGHT</th>\n",
       "      <th>weather</th>\n",
       "      <th>rur_urb</th>\n",
       "      <th>REPORT</th>\n",
       "      <th>SEVERITY</th>\n",
       "    </tr>\n",
       "  </thead>\n",
       "  <tbody>\n",
       "    <tr>\n",
       "      <th>0</th>\n",
       "      <td>2017000001</td>\n",
       "      <td>E627527</td>\n",
       "      <td>005</td>\n",
       "      <td>64.13</td>\n",
       "      <td>5</td>\n",
       "      <td>46.484755</td>\n",
       "      <td>-122.879959</td>\n",
       "      <td>1</td>\n",
       "      <td>1</td>\n",
       "      <td>7</td>\n",
       "      <td>2.0</td>\n",
       "      <td>6.0</td>\n",
       "      <td>01</td>\n",
       "      <td>R</td>\n",
       "      <td>1</td>\n",
       "      <td>1</td>\n",
       "    </tr>\n",
       "    <tr>\n",
       "      <th>1</th>\n",
       "      <td>2017000002</td>\n",
       "      <td>E628124</td>\n",
       "      <td>090</td>\n",
       "      <td>70.58</td>\n",
       "      <td>90</td>\n",
       "      <td>47.228310</td>\n",
       "      <td>-121.163097</td>\n",
       "      <td>1</td>\n",
       "      <td>2</td>\n",
       "      <td>1</td>\n",
       "      <td>4.0</td>\n",
       "      <td>2.0</td>\n",
       "      <td>08</td>\n",
       "      <td>R</td>\n",
       "      <td>2</td>\n",
       "      <td>7</td>\n",
       "    </tr>\n",
       "    <tr>\n",
       "      <th>2</th>\n",
       "      <td>2017000003</td>\n",
       "      <td>E630351</td>\n",
       "      <td>195</td>\n",
       "      <td>35.95</td>\n",
       "      <td>195</td>\n",
       "      <td>46.879918</td>\n",
       "      <td>-117.364820</td>\n",
       "      <td>1</td>\n",
       "      <td>9</td>\n",
       "      <td>1</td>\n",
       "      <td>4.0</td>\n",
       "      <td>1.0</td>\n",
       "      <td>02</td>\n",
       "      <td>R</td>\n",
       "      <td>1</td>\n",
       "      <td>1</td>\n",
       "    </tr>\n",
       "    <tr>\n",
       "      <th>3</th>\n",
       "      <td>2017000004</td>\n",
       "      <td>E633194</td>\n",
       "      <td>270</td>\n",
       "      <td>3.13</td>\n",
       "      <td>270</td>\n",
       "      <td>46.726902</td>\n",
       "      <td>-117.168536</td>\n",
       "      <td>1</td>\n",
       "      <td>9</td>\n",
       "      <td>1</td>\n",
       "      <td>3.0</td>\n",
       "      <td>1.0</td>\n",
       "      <td>04</td>\n",
       "      <td>U</td>\n",
       "      <td>1</td>\n",
       "      <td>1</td>\n",
       "    </tr>\n",
       "    <tr>\n",
       "      <th>4</th>\n",
       "      <td>2017000005</td>\n",
       "      <td>E632431</td>\n",
       "      <td>014</td>\n",
       "      <td>139.99</td>\n",
       "      <td>14</td>\n",
       "      <td>45.787757</td>\n",
       "      <td>-120.099029</td>\n",
       "      <td>1</td>\n",
       "      <td>14</td>\n",
       "      <td>6</td>\n",
       "      <td>3.0</td>\n",
       "      <td>6.0</td>\n",
       "      <td>02</td>\n",
       "      <td>R</td>\n",
       "      <td>2</td>\n",
       "      <td>5</td>\n",
       "    </tr>\n",
       "  </tbody>\n",
       "</table>\n",
       "</div>"
      ],
      "text/plain": [
       "       CASENO FORM_REPT_NO rd_inv  milepost  RTE_NBR        lat         lon  \\\n",
       "0  2017000001      E627527    005     64.13        5  46.484755 -122.879959   \n",
       "1  2017000002      E628124    090     70.58       90  47.228310 -121.163097   \n",
       "2  2017000003      E630351    195     35.95      195  46.879918 -117.364820   \n",
       "3  2017000004      E633194    270      3.13      270  46.726902 -117.168536   \n",
       "4  2017000005      E632431    014    139.99       14  45.787757 -120.099029   \n",
       "\n",
       "   MONTH  DAYMTH  WEEKDAY  RDSURF  LIGHT weather rur_urb  REPORT  SEVERITY  \n",
       "0      1       1        7     2.0    6.0      01       R       1         1  \n",
       "1      1       2        1     4.0    2.0      08       R       2         7  \n",
       "2      1       9        1     4.0    1.0      02       R       1         1  \n",
       "3      1       9        1     3.0    1.0      04       U       1         1  \n",
       "4      1      14        6     3.0    6.0      02       R       2         5  "
      ]
     },
     "execution_count": 5,
     "metadata": {},
     "output_type": "execute_result"
    }
   ],
   "source": [
    "acc.head()"
   ]
  },
  {
   "cell_type": "code",
   "execution_count": 6,
   "metadata": {
    "ExecuteTime": {
     "end_time": "2019-12-06T20:42:51.090127Z",
     "start_time": "2019-12-06T20:42:51.083061Z"
    },
    "hidden": true
   },
   "outputs": [
    {
     "data": {
      "text/plain": [
       "(55494, 16)"
      ]
     },
     "execution_count": 6,
     "metadata": {},
     "output_type": "execute_result"
    }
   ],
   "source": [
    "acc.shape"
   ]
  },
  {
   "cell_type": "markdown",
   "metadata": {},
   "source": [
    "#### curve"
   ]
  },
  {
   "cell_type": "code",
   "execution_count": 7,
   "metadata": {
    "ExecuteTime": {
     "end_time": "2019-12-06T20:42:52.507616Z",
     "start_time": "2019-12-06T20:42:52.487722Z"
    }
   },
   "outputs": [],
   "source": [
    "curv_file = './hsis-csv/wa17curv.csv'\n",
    "curv = pd.read_csv(curv_file)"
   ]
  },
  {
   "cell_type": "code",
   "execution_count": 8,
   "metadata": {
    "ExecuteTime": {
     "end_time": "2019-12-06T20:42:52.647547Z",
     "start_time": "2019-12-06T20:42:52.641229Z"
    }
   },
   "outputs": [],
   "source": [
    "columns = ['curv_inv', 'begmp', 'endmp', 'rte_nbr', 'DIR_CURV', 'deg_curv']\n",
    "curv = curv[columns]"
   ]
  },
  {
   "cell_type": "code",
   "execution_count": 9,
   "metadata": {
    "ExecuteTime": {
     "end_time": "2019-12-06T20:42:52.813170Z",
     "start_time": "2019-12-06T20:42:52.797286Z"
    }
   },
   "outputs": [
    {
     "data": {
      "text/html": [
       "<div>\n",
       "<style scoped>\n",
       "    .dataframe tbody tr th:only-of-type {\n",
       "        vertical-align: middle;\n",
       "    }\n",
       "\n",
       "    .dataframe tbody tr th {\n",
       "        vertical-align: top;\n",
       "    }\n",
       "\n",
       "    .dataframe thead th {\n",
       "        text-align: right;\n",
       "    }\n",
       "</style>\n",
       "<table border=\"1\" class=\"dataframe\">\n",
       "  <thead>\n",
       "    <tr style=\"text-align: right;\">\n",
       "      <th></th>\n",
       "      <th>curv_inv</th>\n",
       "      <th>begmp</th>\n",
       "      <th>endmp</th>\n",
       "      <th>rte_nbr</th>\n",
       "      <th>DIR_CURV</th>\n",
       "      <th>deg_curv</th>\n",
       "    </tr>\n",
       "  </thead>\n",
       "  <tbody>\n",
       "    <tr>\n",
       "      <th>0</th>\n",
       "      <td>002</td>\n",
       "      <td>0.16</td>\n",
       "      <td>0.19</td>\n",
       "      <td>2</td>\n",
       "      <td>L</td>\n",
       "      <td>43.74</td>\n",
       "    </tr>\n",
       "    <tr>\n",
       "      <th>1</th>\n",
       "      <td>002</td>\n",
       "      <td>0.20</td>\n",
       "      <td>0.29</td>\n",
       "      <td>2</td>\n",
       "      <td>R</td>\n",
       "      <td>17.74</td>\n",
       "    </tr>\n",
       "    <tr>\n",
       "      <th>2</th>\n",
       "      <td>002</td>\n",
       "      <td>0.32</td>\n",
       "      <td>0.79</td>\n",
       "      <td>2</td>\n",
       "      <td>L</td>\n",
       "      <td>0.93</td>\n",
       "    </tr>\n",
       "    <tr>\n",
       "      <th>3</th>\n",
       "      <td>002</td>\n",
       "      <td>1.84</td>\n",
       "      <td>1.92</td>\n",
       "      <td>2</td>\n",
       "      <td>R</td>\n",
       "      <td>0.60</td>\n",
       "    </tr>\n",
       "    <tr>\n",
       "      <th>4</th>\n",
       "      <td>002</td>\n",
       "      <td>2.37</td>\n",
       "      <td>2.72</td>\n",
       "      <td>2</td>\n",
       "      <td>R</td>\n",
       "      <td>3.82</td>\n",
       "    </tr>\n",
       "  </tbody>\n",
       "</table>\n",
       "</div>"
      ],
      "text/plain": [
       "  curv_inv  begmp  endmp  rte_nbr DIR_CURV  deg_curv\n",
       "0      002   0.16   0.19        2        L     43.74\n",
       "1      002   0.20   0.29        2        R     17.74\n",
       "2      002   0.32   0.79        2        L      0.93\n",
       "3      002   1.84   1.92        2        R      0.60\n",
       "4      002   2.37   2.72        2        R      3.82"
      ]
     },
     "execution_count": 9,
     "metadata": {},
     "output_type": "execute_result"
    }
   ],
   "source": [
    "curv.head()"
   ]
  },
  {
   "cell_type": "markdown",
   "metadata": {
    "heading_collapsed": true
   },
   "source": [
    "#### grade"
   ]
  },
  {
   "cell_type": "code",
   "execution_count": 10,
   "metadata": {
    "ExecuteTime": {
     "end_time": "2019-12-06T20:42:54.702937Z",
     "start_time": "2019-12-06T20:42:54.675785Z"
    },
    "hidden": true
   },
   "outputs": [],
   "source": [
    "grad_file = './hsis-csv/wa17grad.csv'\n",
    "grad = pd.read_csv(grad_file)"
   ]
  },
  {
   "cell_type": "code",
   "execution_count": 11,
   "metadata": {
    "ExecuteTime": {
     "end_time": "2019-12-06T20:42:54.841382Z",
     "start_time": "2019-12-06T20:42:54.837034Z"
    },
    "hidden": true
   },
   "outputs": [],
   "source": [
    "columns = ['grad_inv', 'begmp', 'endmp', 'rte_nbr', 'dir_grad', 'pct_grad']"
   ]
  },
  {
   "cell_type": "code",
   "execution_count": 12,
   "metadata": {
    "ExecuteTime": {
     "end_time": "2019-12-06T20:42:55.004487Z",
     "start_time": "2019-12-06T20:42:54.996113Z"
    },
    "hidden": true
   },
   "outputs": [],
   "source": [
    "grad = grad[columns]"
   ]
  },
  {
   "cell_type": "code",
   "execution_count": 13,
   "metadata": {
    "ExecuteTime": {
     "end_time": "2019-12-06T20:42:55.831059Z",
     "start_time": "2019-12-06T20:42:55.814124Z"
    },
    "hidden": true
   },
   "outputs": [
    {
     "data": {
      "text/html": [
       "<div>\n",
       "<style scoped>\n",
       "    .dataframe tbody tr th:only-of-type {\n",
       "        vertical-align: middle;\n",
       "    }\n",
       "\n",
       "    .dataframe tbody tr th {\n",
       "        vertical-align: top;\n",
       "    }\n",
       "\n",
       "    .dataframe thead th {\n",
       "        text-align: right;\n",
       "    }\n",
       "</style>\n",
       "<table border=\"1\" class=\"dataframe\">\n",
       "  <thead>\n",
       "    <tr style=\"text-align: right;\">\n",
       "      <th></th>\n",
       "      <th>grad_inv</th>\n",
       "      <th>begmp</th>\n",
       "      <th>endmp</th>\n",
       "      <th>rte_nbr</th>\n",
       "      <th>dir_grad</th>\n",
       "      <th>pct_grad</th>\n",
       "    </tr>\n",
       "  </thead>\n",
       "  <tbody>\n",
       "    <tr>\n",
       "      <th>0</th>\n",
       "      <td>002</td>\n",
       "      <td>0.00</td>\n",
       "      <td>0.16</td>\n",
       "      <td>2</td>\n",
       "      <td>-</td>\n",
       "      <td>2.19</td>\n",
       "    </tr>\n",
       "    <tr>\n",
       "      <th>1</th>\n",
       "      <td>002</td>\n",
       "      <td>0.16</td>\n",
       "      <td>0.18</td>\n",
       "      <td>2</td>\n",
       "      <td>-</td>\n",
       "      <td>3.87</td>\n",
       "    </tr>\n",
       "    <tr>\n",
       "      <th>2</th>\n",
       "      <td>002</td>\n",
       "      <td>0.18</td>\n",
       "      <td>0.25</td>\n",
       "      <td>2</td>\n",
       "      <td>-</td>\n",
       "      <td>0.19</td>\n",
       "    </tr>\n",
       "    <tr>\n",
       "      <th>3</th>\n",
       "      <td>002</td>\n",
       "      <td>0.25</td>\n",
       "      <td>0.30</td>\n",
       "      <td>2</td>\n",
       "      <td>+</td>\n",
       "      <td>0.44</td>\n",
       "    </tr>\n",
       "    <tr>\n",
       "      <th>4</th>\n",
       "      <td>002</td>\n",
       "      <td>0.30</td>\n",
       "      <td>0.37</td>\n",
       "      <td>2</td>\n",
       "      <td>+</td>\n",
       "      <td>2.76</td>\n",
       "    </tr>\n",
       "  </tbody>\n",
       "</table>\n",
       "</div>"
      ],
      "text/plain": [
       "  grad_inv  begmp  endmp  rte_nbr dir_grad  pct_grad\n",
       "0      002   0.00   0.16        2        -      2.19\n",
       "1      002   0.16   0.18        2        -      3.87\n",
       "2      002   0.18   0.25        2        -      0.19\n",
       "3      002   0.25   0.30        2        +      0.44\n",
       "4      002   0.30   0.37        2        +      2.76"
      ]
     },
     "execution_count": 13,
     "metadata": {},
     "output_type": "execute_result"
    }
   ],
   "source": [
    "grad.head()"
   ]
  },
  {
   "cell_type": "markdown",
   "metadata": {
    "heading_collapsed": true
   },
   "source": [
    "#### occupant"
   ]
  },
  {
   "cell_type": "code",
   "execution_count": 14,
   "metadata": {
    "ExecuteTime": {
     "end_time": "2019-12-06T20:42:57.544496Z",
     "start_time": "2019-12-06T20:42:57.530844Z"
    },
    "hidden": true
   },
   "outputs": [],
   "source": [
    "occ_file = './hsis-csv/wa17occ.csv'\n",
    "occ = pd.read_csv(occ_file)"
   ]
  },
  {
   "cell_type": "code",
   "execution_count": 15,
   "metadata": {
    "ExecuteTime": {
     "end_time": "2019-12-06T20:42:57.702202Z",
     "start_time": "2019-12-06T20:42:57.685293Z"
    },
    "hidden": true
   },
   "outputs": [
    {
     "data": {
      "text/html": [
       "<div>\n",
       "<style scoped>\n",
       "    .dataframe tbody tr th:only-of-type {\n",
       "        vertical-align: middle;\n",
       "    }\n",
       "\n",
       "    .dataframe tbody tr th {\n",
       "        vertical-align: top;\n",
       "    }\n",
       "\n",
       "    .dataframe thead th {\n",
       "        text-align: right;\n",
       "    }\n",
       "</style>\n",
       "<table border=\"1\" class=\"dataframe\">\n",
       "  <thead>\n",
       "    <tr style=\"text-align: right;\">\n",
       "      <th></th>\n",
       "      <th>CASENO</th>\n",
       "      <th>SEATPOS</th>\n",
       "      <th>VEHNO</th>\n",
       "    </tr>\n",
       "  </thead>\n",
       "  <tbody>\n",
       "    <tr>\n",
       "      <th>0</th>\n",
       "      <td>2017000004</td>\n",
       "      <td>7</td>\n",
       "      <td>1</td>\n",
       "    </tr>\n",
       "    <tr>\n",
       "      <th>1</th>\n",
       "      <td>2017000005</td>\n",
       "      <td>3</td>\n",
       "      <td>2</td>\n",
       "    </tr>\n",
       "    <tr>\n",
       "      <th>2</th>\n",
       "      <td>2017000011</td>\n",
       "      <td>3</td>\n",
       "      <td>2</td>\n",
       "    </tr>\n",
       "    <tr>\n",
       "      <th>3</th>\n",
       "      <td>2017000017</td>\n",
       "      <td>5</td>\n",
       "      <td>1</td>\n",
       "    </tr>\n",
       "    <tr>\n",
       "      <th>4</th>\n",
       "      <td>2017000017</td>\n",
       "      <td>6</td>\n",
       "      <td>1</td>\n",
       "    </tr>\n",
       "  </tbody>\n",
       "</table>\n",
       "</div>"
      ],
      "text/plain": [
       "       CASENO  SEATPOS  VEHNO\n",
       "0  2017000004        7      1\n",
       "1  2017000005        3      2\n",
       "2  2017000011        3      2\n",
       "3  2017000017        5      1\n",
       "4  2017000017        6      1"
      ]
     },
     "execution_count": 15,
     "metadata": {},
     "output_type": "execute_result"
    }
   ],
   "source": [
    "occ.head()"
   ]
  },
  {
   "cell_type": "markdown",
   "metadata": {
    "heading_collapsed": true
   },
   "source": [
    "#### road"
   ]
  },
  {
   "cell_type": "code",
   "execution_count": 16,
   "metadata": {
    "ExecuteTime": {
     "end_time": "2019-12-06T20:42:58.185892Z",
     "start_time": "2019-12-06T20:42:58.057189Z"
    },
    "hidden": true
   },
   "outputs": [],
   "source": [
    "road_file = './hsis-csv/wa17road.csv'\n",
    "road = pd.read_csv(road_file)"
   ]
  },
  {
   "cell_type": "code",
   "execution_count": 17,
   "metadata": {
    "ExecuteTime": {
     "end_time": "2019-12-06T20:42:58.493612Z",
     "start_time": "2019-12-06T20:42:58.480303Z"
    },
    "hidden": true
   },
   "outputs": [],
   "source": [
    "columns = ['ROAD_INV', 'BEGMP', 'ENDMP', 'RTE_NBR', 'CITY', 'COUNTY',\n",
    "           'AADT', 'mvmt', \n",
    "           'RURURB', \n",
    "           'LSHL_TYP', 'MED_TYPE', 'RSHL_TYP', 'SURF_TYP', 'SPD_LIMT',\n",
    "           'EW_IND', 'LSHLDWID', 'MEDWID', 'RSHLDWID', 'lanewid', 'rdwy_wid', 'NO_LANES']\n",
    "road = road[columns]"
   ]
  },
  {
   "cell_type": "code",
   "execution_count": 18,
   "metadata": {
    "ExecuteTime": {
     "end_time": "2019-12-06T20:42:58.674083Z",
     "start_time": "2019-12-06T20:42:58.628112Z"
    },
    "hidden": true
   },
   "outputs": [
    {
     "data": {
      "text/html": [
       "<div>\n",
       "<style scoped>\n",
       "    .dataframe tbody tr th:only-of-type {\n",
       "        vertical-align: middle;\n",
       "    }\n",
       "\n",
       "    .dataframe tbody tr th {\n",
       "        vertical-align: top;\n",
       "    }\n",
       "\n",
       "    .dataframe thead th {\n",
       "        text-align: right;\n",
       "    }\n",
       "</style>\n",
       "<table border=\"1\" class=\"dataframe\">\n",
       "  <thead>\n",
       "    <tr style=\"text-align: right;\">\n",
       "      <th></th>\n",
       "      <th>ROAD_INV</th>\n",
       "      <th>BEGMP</th>\n",
       "      <th>ENDMP</th>\n",
       "      <th>RTE_NBR</th>\n",
       "      <th>CITY</th>\n",
       "      <th>COUNTY</th>\n",
       "      <th>AADT</th>\n",
       "      <th>mvmt</th>\n",
       "      <th>RURURB</th>\n",
       "      <th>LSHL_TYP</th>\n",
       "      <th>...</th>\n",
       "      <th>RSHL_TYP</th>\n",
       "      <th>SURF_TYP</th>\n",
       "      <th>SPD_LIMT</th>\n",
       "      <th>EW_IND</th>\n",
       "      <th>LSHLDWID</th>\n",
       "      <th>MEDWID</th>\n",
       "      <th>RSHLDWID</th>\n",
       "      <th>lanewid</th>\n",
       "      <th>rdwy_wid</th>\n",
       "      <th>NO_LANES</th>\n",
       "    </tr>\n",
       "  </thead>\n",
       "  <tbody>\n",
       "    <tr>\n",
       "      <th>0</th>\n",
       "      <td>002</td>\n",
       "      <td>0.00</td>\n",
       "      <td>0.04</td>\n",
       "      <td>2</td>\n",
       "      <td>420.0</td>\n",
       "      <td>31.0</td>\n",
       "      <td>6266.0</td>\n",
       "      <td>0.09</td>\n",
       "      <td>U</td>\n",
       "      <td>NaN</td>\n",
       "      <td>...</td>\n",
       "      <td>NaN</td>\n",
       "      <td>NaN</td>\n",
       "      <td>NaN</td>\n",
       "      <td>W</td>\n",
       "      <td>0</td>\n",
       "      <td>0</td>\n",
       "      <td>0</td>\n",
       "      <td>40</td>\n",
       "      <td>40</td>\n",
       "      <td>1</td>\n",
       "    </tr>\n",
       "    <tr>\n",
       "      <th>1</th>\n",
       "      <td>002</td>\n",
       "      <td>0.04</td>\n",
       "      <td>0.11</td>\n",
       "      <td>2</td>\n",
       "      <td>420.0</td>\n",
       "      <td>31.0</td>\n",
       "      <td>6266.0</td>\n",
       "      <td>0.16</td>\n",
       "      <td>U</td>\n",
       "      <td>NaN</td>\n",
       "      <td>...</td>\n",
       "      <td>NaN</td>\n",
       "      <td>NaN</td>\n",
       "      <td>55.0</td>\n",
       "      <td>W</td>\n",
       "      <td>0</td>\n",
       "      <td>0</td>\n",
       "      <td>0</td>\n",
       "      <td>20</td>\n",
       "      <td>40</td>\n",
       "      <td>2</td>\n",
       "    </tr>\n",
       "    <tr>\n",
       "      <th>2</th>\n",
       "      <td>002</td>\n",
       "      <td>0.11</td>\n",
       "      <td>0.13</td>\n",
       "      <td>2</td>\n",
       "      <td>420.0</td>\n",
       "      <td>31.0</td>\n",
       "      <td>9626.0</td>\n",
       "      <td>0.07</td>\n",
       "      <td>U</td>\n",
       "      <td>NaN</td>\n",
       "      <td>...</td>\n",
       "      <td>NaN</td>\n",
       "      <td>NaN</td>\n",
       "      <td>55.0</td>\n",
       "      <td>W</td>\n",
       "      <td>0</td>\n",
       "      <td>0</td>\n",
       "      <td>0</td>\n",
       "      <td>20</td>\n",
       "      <td>40</td>\n",
       "      <td>2</td>\n",
       "    </tr>\n",
       "    <tr>\n",
       "      <th>3</th>\n",
       "      <td>002</td>\n",
       "      <td>0.13</td>\n",
       "      <td>0.14</td>\n",
       "      <td>2</td>\n",
       "      <td>420.0</td>\n",
       "      <td>31.0</td>\n",
       "      <td>23665.0</td>\n",
       "      <td>0.09</td>\n",
       "      <td>U</td>\n",
       "      <td>C</td>\n",
       "      <td>...</td>\n",
       "      <td>C</td>\n",
       "      <td>A</td>\n",
       "      <td>55.0</td>\n",
       "      <td>W</td>\n",
       "      <td>0</td>\n",
       "      <td>750</td>\n",
       "      <td>0</td>\n",
       "      <td>27</td>\n",
       "      <td>106</td>\n",
       "      <td>4</td>\n",
       "    </tr>\n",
       "    <tr>\n",
       "      <th>4</th>\n",
       "      <td>002</td>\n",
       "      <td>0.14</td>\n",
       "      <td>0.16</td>\n",
       "      <td>2</td>\n",
       "      <td>420.0</td>\n",
       "      <td>31.0</td>\n",
       "      <td>23665.0</td>\n",
       "      <td>0.17</td>\n",
       "      <td>U</td>\n",
       "      <td>C</td>\n",
       "      <td>...</td>\n",
       "      <td>C</td>\n",
       "      <td>A</td>\n",
       "      <td>55.0</td>\n",
       "      <td>W</td>\n",
       "      <td>0</td>\n",
       "      <td>750</td>\n",
       "      <td>0</td>\n",
       "      <td>23</td>\n",
       "      <td>92</td>\n",
       "      <td>4</td>\n",
       "    </tr>\n",
       "    <tr>\n",
       "      <th>5</th>\n",
       "      <td>002</td>\n",
       "      <td>0.16</td>\n",
       "      <td>0.17</td>\n",
       "      <td>2</td>\n",
       "      <td>420.0</td>\n",
       "      <td>31.0</td>\n",
       "      <td>23665.0</td>\n",
       "      <td>0.09</td>\n",
       "      <td>U</td>\n",
       "      <td>A</td>\n",
       "      <td>...</td>\n",
       "      <td>C</td>\n",
       "      <td>A</td>\n",
       "      <td>55.0</td>\n",
       "      <td>W</td>\n",
       "      <td>4</td>\n",
       "      <td>350</td>\n",
       "      <td>0</td>\n",
       "      <td>13</td>\n",
       "      <td>52</td>\n",
       "      <td>4</td>\n",
       "    </tr>\n",
       "    <tr>\n",
       "      <th>6</th>\n",
       "      <td>002</td>\n",
       "      <td>0.17</td>\n",
       "      <td>0.19</td>\n",
       "      <td>2</td>\n",
       "      <td>420.0</td>\n",
       "      <td>31.0</td>\n",
       "      <td>23665.0</td>\n",
       "      <td>0.17</td>\n",
       "      <td>U</td>\n",
       "      <td>A</td>\n",
       "      <td>...</td>\n",
       "      <td>C</td>\n",
       "      <td>A</td>\n",
       "      <td>55.0</td>\n",
       "      <td>W</td>\n",
       "      <td>4</td>\n",
       "      <td>350</td>\n",
       "      <td>0</td>\n",
       "      <td>13</td>\n",
       "      <td>52</td>\n",
       "      <td>4</td>\n",
       "    </tr>\n",
       "    <tr>\n",
       "      <th>7</th>\n",
       "      <td>002</td>\n",
       "      <td>0.19</td>\n",
       "      <td>0.21</td>\n",
       "      <td>2</td>\n",
       "      <td>420.0</td>\n",
       "      <td>31.0</td>\n",
       "      <td>20367.0</td>\n",
       "      <td>0.15</td>\n",
       "      <td>U</td>\n",
       "      <td>A</td>\n",
       "      <td>...</td>\n",
       "      <td>A</td>\n",
       "      <td>A</td>\n",
       "      <td>55.0</td>\n",
       "      <td>W</td>\n",
       "      <td>4</td>\n",
       "      <td>350</td>\n",
       "      <td>10</td>\n",
       "      <td>12</td>\n",
       "      <td>48</td>\n",
       "      <td>4</td>\n",
       "    </tr>\n",
       "  </tbody>\n",
       "</table>\n",
       "<p>8 rows × 21 columns</p>\n",
       "</div>"
      ],
      "text/plain": [
       "  ROAD_INV  BEGMP  ENDMP  RTE_NBR   CITY  COUNTY     AADT  mvmt RURURB  \\\n",
       "0      002   0.00   0.04        2  420.0    31.0   6266.0  0.09      U   \n",
       "1      002   0.04   0.11        2  420.0    31.0   6266.0  0.16      U   \n",
       "2      002   0.11   0.13        2  420.0    31.0   9626.0  0.07      U   \n",
       "3      002   0.13   0.14        2  420.0    31.0  23665.0  0.09      U   \n",
       "4      002   0.14   0.16        2  420.0    31.0  23665.0  0.17      U   \n",
       "5      002   0.16   0.17        2  420.0    31.0  23665.0  0.09      U   \n",
       "6      002   0.17   0.19        2  420.0    31.0  23665.0  0.17      U   \n",
       "7      002   0.19   0.21        2  420.0    31.0  20367.0  0.15      U   \n",
       "\n",
       "  LSHL_TYP  ... RSHL_TYP SURF_TYP SPD_LIMT  EW_IND LSHLDWID  MEDWID  RSHLDWID  \\\n",
       "0      NaN  ...      NaN      NaN      NaN       W        0       0         0   \n",
       "1      NaN  ...      NaN      NaN     55.0       W        0       0         0   \n",
       "2      NaN  ...      NaN      NaN     55.0       W        0       0         0   \n",
       "3        C  ...        C        A     55.0       W        0     750         0   \n",
       "4        C  ...        C        A     55.0       W        0     750         0   \n",
       "5        A  ...        C        A     55.0       W        4     350         0   \n",
       "6        A  ...        C        A     55.0       W        4     350         0   \n",
       "7        A  ...        A        A     55.0       W        4     350        10   \n",
       "\n",
       "   lanewid  rdwy_wid  NO_LANES  \n",
       "0       40        40         1  \n",
       "1       20        40         2  \n",
       "2       20        40         2  \n",
       "3       27       106         4  \n",
       "4       23        92         4  \n",
       "5       13        52         4  \n",
       "6       13        52         4  \n",
       "7       12        48         4  \n",
       "\n",
       "[8 rows x 21 columns]"
      ]
     },
     "execution_count": 18,
     "metadata": {},
     "output_type": "execute_result"
    }
   ],
   "source": [
    "road.head(8)"
   ]
  },
  {
   "cell_type": "markdown",
   "metadata": {
    "heading_collapsed": true
   },
   "source": [
    "#### vehicle"
   ]
  },
  {
   "cell_type": "code",
   "execution_count": 19,
   "metadata": {
    "ExecuteTime": {
     "end_time": "2019-12-06T20:43:14.160951Z",
     "start_time": "2019-12-06T20:43:14.019893Z"
    },
    "hidden": true
   },
   "outputs": [],
   "source": [
    "veh_file = './hsis-csv/wa17veh.csv'\n",
    "veh = pd.read_csv(veh_file)"
   ]
  },
  {
   "cell_type": "code",
   "execution_count": 20,
   "metadata": {
    "ExecuteTime": {
     "end_time": "2019-12-06T20:43:14.196111Z",
     "start_time": "2019-12-06T20:43:14.168021Z"
    },
    "hidden": true,
    "scrolled": true
   },
   "outputs": [
    {
     "data": {
      "text/html": [
       "<div>\n",
       "<style scoped>\n",
       "    .dataframe tbody tr th:only-of-type {\n",
       "        vertical-align: middle;\n",
       "    }\n",
       "\n",
       "    .dataframe tbody tr th {\n",
       "        vertical-align: top;\n",
       "    }\n",
       "\n",
       "    .dataframe thead th {\n",
       "        text-align: right;\n",
       "    }\n",
       "</style>\n",
       "<table border=\"1\" class=\"dataframe\">\n",
       "  <thead>\n",
       "    <tr style=\"text-align: right;\">\n",
       "      <th></th>\n",
       "      <th>CASENO</th>\n",
       "      <th>DRV_SEX</th>\n",
       "      <th>DRV_AGE</th>\n",
       "      <th>drassess</th>\n",
       "      <th>spdlimit</th>\n",
       "      <th>surf_typ</th>\n",
       "      <th>contrib1</th>\n",
       "      <th>contrib2</th>\n",
       "      <th>intox</th>\n",
       "      <th>stolen</th>\n",
       "      <th>vehcond1</th>\n",
       "      <th>vehcond2</th>\n",
       "      <th>vehcond3</th>\n",
       "      <th>com_body</th>\n",
       "      <th>cdplaccd</th>\n",
       "      <th>vehno</th>\n",
       "    </tr>\n",
       "  </thead>\n",
       "  <tbody>\n",
       "    <tr>\n",
       "      <th>0</th>\n",
       "      <td>2017000001</td>\n",
       "      <td>1.0</td>\n",
       "      <td>51.0</td>\n",
       "      <td>NaN</td>\n",
       "      <td>60.0</td>\n",
       "      <td>2.0</td>\n",
       "      <td>23</td>\n",
       "      <td>0</td>\n",
       "      <td>4.0</td>\n",
       "      <td>NaN</td>\n",
       "      <td>12</td>\n",
       "      <td>0</td>\n",
       "      <td>0</td>\n",
       "      <td>9.0</td>\n",
       "      <td>F</td>\n",
       "      <td>1</td>\n",
       "    </tr>\n",
       "    <tr>\n",
       "      <th>1</th>\n",
       "      <td>2017000001</td>\n",
       "      <td>NaN</td>\n",
       "      <td>NaN</td>\n",
       "      <td>NaN</td>\n",
       "      <td>NaN</td>\n",
       "      <td>NaN</td>\n",
       "      <td>0</td>\n",
       "      <td>0</td>\n",
       "      <td>NaN</td>\n",
       "      <td>NaN</td>\n",
       "      <td>0</td>\n",
       "      <td>0</td>\n",
       "      <td>0</td>\n",
       "      <td>NaN</td>\n",
       "      <td>NaN</td>\n",
       "      <td>2</td>\n",
       "    </tr>\n",
       "    <tr>\n",
       "      <th>2</th>\n",
       "      <td>2017000002</td>\n",
       "      <td>2.0</td>\n",
       "      <td>30.0</td>\n",
       "      <td>0.0</td>\n",
       "      <td>70.0</td>\n",
       "      <td>1.0</td>\n",
       "      <td>4</td>\n",
       "      <td>0</td>\n",
       "      <td>4.0</td>\n",
       "      <td>NaN</td>\n",
       "      <td>12</td>\n",
       "      <td>0</td>\n",
       "      <td>0</td>\n",
       "      <td>NaN</td>\n",
       "      <td>NaN</td>\n",
       "      <td>1</td>\n",
       "    </tr>\n",
       "    <tr>\n",
       "      <th>3</th>\n",
       "      <td>2017000002</td>\n",
       "      <td>1.0</td>\n",
       "      <td>35.0</td>\n",
       "      <td>0.0</td>\n",
       "      <td>60.0</td>\n",
       "      <td>1.0</td>\n",
       "      <td>18</td>\n",
       "      <td>0</td>\n",
       "      <td>4.0</td>\n",
       "      <td>NaN</td>\n",
       "      <td>12</td>\n",
       "      <td>0</td>\n",
       "      <td>0</td>\n",
       "      <td>2.0</td>\n",
       "      <td>F</td>\n",
       "      <td>2</td>\n",
       "    </tr>\n",
       "    <tr>\n",
       "      <th>4</th>\n",
       "      <td>2017000002</td>\n",
       "      <td>NaN</td>\n",
       "      <td>NaN</td>\n",
       "      <td>NaN</td>\n",
       "      <td>NaN</td>\n",
       "      <td>NaN</td>\n",
       "      <td>0</td>\n",
       "      <td>0</td>\n",
       "      <td>NaN</td>\n",
       "      <td>NaN</td>\n",
       "      <td>0</td>\n",
       "      <td>0</td>\n",
       "      <td>0</td>\n",
       "      <td>NaN</td>\n",
       "      <td>NaN</td>\n",
       "      <td>3</td>\n",
       "    </tr>\n",
       "  </tbody>\n",
       "</table>\n",
       "</div>"
      ],
      "text/plain": [
       "       CASENO  DRV_SEX  DRV_AGE  drassess  spdlimit  surf_typ  contrib1  \\\n",
       "0  2017000001      1.0     51.0       NaN      60.0       2.0        23   \n",
       "1  2017000001      NaN      NaN       NaN       NaN       NaN         0   \n",
       "2  2017000002      2.0     30.0       0.0      70.0       1.0         4   \n",
       "3  2017000002      1.0     35.0       0.0      60.0       1.0        18   \n",
       "4  2017000002      NaN      NaN       NaN       NaN       NaN         0   \n",
       "\n",
       "   contrib2  intox  stolen  vehcond1  vehcond2  vehcond3  com_body cdplaccd  \\\n",
       "0         0    4.0     NaN        12         0         0       9.0        F   \n",
       "1         0    NaN     NaN         0         0         0       NaN      NaN   \n",
       "2         0    4.0     NaN        12         0         0       NaN      NaN   \n",
       "3         0    4.0     NaN        12         0         0       2.0        F   \n",
       "4         0    NaN     NaN         0         0         0       NaN      NaN   \n",
       "\n",
       "   vehno  \n",
       "0      1  \n",
       "1      2  \n",
       "2      1  \n",
       "3      2  \n",
       "4      3  "
      ]
     },
     "execution_count": 20,
     "metadata": {},
     "output_type": "execute_result"
    }
   ],
   "source": [
    "veh.head()"
   ]
  },
  {
   "cell_type": "markdown",
   "metadata": {},
   "source": [
    "### merge"
   ]
  },
  {
   "cell_type": "markdown",
   "metadata": {},
   "source": [
    "We need to think of functions, and therefore what joining operations should be present:\n",
    "+ **crash meta:** accident &#8596; occupant &#8596; vehicle<br>\n",
    "+ **road meta:** road &#8596; curv &#8596; grade<br>\n",
    "+ **crash meta** &#8596; **road meta** for analysis"
   ]
  },
  {
   "cell_type": "markdown",
   "metadata": {},
   "source": [
    "#### YYYY - execute - crash meta\n",
    "Since one crash may have multiple vehicles and occupants, and that data cannot be easily aggregated (e.g. averaged).<br>\n",
    "We only count the number of vehicles and add that as an attribute.<br>\n",
    "+ For example, in **CASENO: 2017000001**, one vehicle has driver info while the other does not.<br>\n",
    "+ In other cases, both or all vehicles have driver info.<br>\n",
    "\n",
    "You should have 55494 records in **acc_meta**."
   ]
  },
  {
   "cell_type": "code",
   "execution_count": 21,
   "metadata": {
    "ExecuteTime": {
     "end_time": "2019-12-06T20:43:27.166331Z",
     "start_time": "2019-12-06T20:43:27.145038Z"
    }
   },
   "outputs": [],
   "source": [
    "veh_count = veh['CASENO'].value_counts().sort_index()"
   ]
  },
  {
   "cell_type": "code",
   "execution_count": 22,
   "metadata": {
    "ExecuteTime": {
     "end_time": "2019-12-06T20:43:27.314376Z",
     "start_time": "2019-12-06T20:43:27.307176Z"
    }
   },
   "outputs": [],
   "source": [
    "veh_count = veh_count.to_frame().reset_index()\n",
    "veh_count.columns = ['CASENO', 'veh_count']"
   ]
  },
  {
   "cell_type": "code",
   "execution_count": 23,
   "metadata": {
    "ExecuteTime": {
     "end_time": "2019-12-06T20:43:27.441390Z",
     "start_time": "2019-12-06T20:43:27.432330Z"
    }
   },
   "outputs": [
    {
     "data": {
      "text/plain": [
       "(55548, 2)"
      ]
     },
     "execution_count": 23,
     "metadata": {},
     "output_type": "execute_result"
    }
   ],
   "source": [
    "veh_count.shape"
   ]
  },
  {
   "cell_type": "code",
   "execution_count": 24,
   "metadata": {
    "ExecuteTime": {
     "end_time": "2019-12-06T20:43:27.621437Z",
     "start_time": "2019-12-06T20:43:27.572757Z"
    }
   },
   "outputs": [
    {
     "name": "stdout",
     "output_type": "stream",
     "text": [
      "(55494, 16) (55494, 17)\n"
     ]
    }
   ],
   "source": [
    "acc_meta = acc.merge(veh_count, on='CASENO', how='inner')\n",
    "print(acc.shape, acc_meta.shape)\n",
    "# .merge(occ, on='CASENO', how='inner')"
   ]
  },
  {
   "cell_type": "code",
   "execution_count": 25,
   "metadata": {
    "ExecuteTime": {
     "end_time": "2019-12-06T20:43:28.472300Z",
     "start_time": "2019-12-06T20:43:28.460852Z"
    }
   },
   "outputs": [
    {
     "data": {
      "text/plain": [
       "55494"
      ]
     },
     "execution_count": 25,
     "metadata": {},
     "output_type": "execute_result"
    }
   ],
   "source": [
    "len(acc_meta['CASENO'].unique())"
   ]
  },
  {
   "cell_type": "markdown",
   "metadata": {
    "heading_collapsed": true
   },
   "source": [
    "#### XXXX - don't execute - road meta\n",
    "ROAD mileposts are in smaller segments, while records in CURVE and GRADE may cover larger area."
   ]
  },
  {
   "cell_type": "markdown",
   "metadata": {
    "hidden": true
   },
   "source": [
    "It seems we cannot do pre-merge:<br>\n",
    "+ GRADE and CURVE's segments are cross-overlapping with ROAD's;\n",
    "+ E.g. **ROAD: [0.16, 0.19]**, **GRADE: [0.16, 0.18]**, **CURV: [0.16, 0.17]**"
   ]
  },
  {
   "cell_type": "markdown",
   "metadata": {},
   "source": [
    "#### YYYY - execute here - super merge\n",
    "acc_meta &#8596; road &#8596; curve &#8596; grade"
   ]
  },
  {
   "cell_type": "markdown",
   "metadata": {
    "heading_collapsed": true
   },
   "source": [
    "##### XXXX - don't execute - initial merge in sql with \">\" and \"<\" for **crash** and **road**\n",
    "**found that many records are lost with \"<\" and \">\"**, e.g. *CASENO \"2017000003\"*"
   ]
  },
  {
   "cell_type": "code",
   "execution_count": null,
   "metadata": {
    "ExecuteTime": {
     "end_time": "2019-12-05T05:59:23.469168Z",
     "start_time": "2019-12-05T05:59:22.269495Z"
    },
    "hidden": true
   },
   "outputs": [],
   "source": [
    "conn = sqlite3.connect(\":memory:\")\n",
    "acc_meta.to_sql(\"crash\", conn, index=False)\n",
    "road.to_sql(\"road\", conn, index=False)"
   ]
  },
  {
   "cell_type": "code",
   "execution_count": null,
   "metadata": {
    "ExecuteTime": {
     "end_time": "2019-12-05T06:36:22.412771Z",
     "start_time": "2019-12-05T06:35:59.158321Z"
    },
    "hidden": true
   },
   "outputs": [],
   "source": [
    "query = \\\n",
    "    \"SELECT * \\\n",
    "    FROM crash, road \\\n",
    "    WHERE crash.rd_inv = road.ROAD_INV\\\n",
    "    AND crash.milepost > road.BEGMP\\\n",
    "    AND crash.milepost < road.ENDMP\"\n",
    "tt = pd.read_sql_query(query,conn)"
   ]
  },
  {
   "cell_type": "code",
   "execution_count": null,
   "metadata": {
    "ExecuteTime": {
     "end_time": "2019-12-05T06:36:22.450036Z",
     "start_time": "2019-12-05T06:36:22.415374Z"
    },
    "hidden": true
   },
   "outputs": [],
   "source": [
    "tt.head()"
   ]
  },
  {
   "cell_type": "code",
   "execution_count": null,
   "metadata": {
    "ExecuteTime": {
     "end_time": "2019-12-05T06:36:22.480033Z",
     "start_time": "2019-12-05T06:36:22.452852Z"
    },
    "hidden": true
   },
   "outputs": [],
   "source": [
    "tt[tt['CASENO'] == 2017000003]"
   ]
  },
  {
   "cell_type": "markdown",
   "metadata": {
    "heading_collapsed": true,
    "hidden": true
   },
   "source": [
    "###### But actually the road with the \"ROAD_INV\" exists"
   ]
  },
  {
   "cell_type": "code",
   "execution_count": null,
   "metadata": {
    "ExecuteTime": {
     "end_time": "2019-12-05T06:10:32.131331Z",
     "start_time": "2019-12-05T06:10:32.053757Z"
    },
    "hidden": true
   },
   "outputs": [],
   "source": [
    "road[road['ROAD_INV'] == '195']"
   ]
  },
  {
   "cell_type": "markdown",
   "metadata": {
    "heading_collapsed": true,
    "hidden": true
   },
   "source": [
    "###### It's because \"2017000003\"'s milepost is actually at a separating point\n",
    "There are two records of \"2017000003\"."
   ]
  },
  {
   "cell_type": "code",
   "execution_count": null,
   "metadata": {
    "ExecuteTime": {
     "end_time": "2019-12-05T06:38:40.419589Z",
     "start_time": "2019-12-05T06:38:14.855858Z"
    },
    "hidden": true
   },
   "outputs": [],
   "source": [
    "query = \\\n",
    "    \"SELECT * \\\n",
    "    FROM crash, road \\\n",
    "    WHERE crash.rd_inv = road.ROAD_INV\\\n",
    "    AND crash.milepost >= road.BEGMP\\\n",
    "    AND crash.milepost <= road.ENDMP\"\n",
    "tt = pd.read_sql_query(query,conn)\n",
    "tt.head(8)"
   ]
  },
  {
   "cell_type": "markdown",
   "metadata": {
    "hidden": true
   },
   "source": [
    "###### we can also inspect the schema of the two tables"
   ]
  },
  {
   "cell_type": "code",
   "execution_count": null,
   "metadata": {
    "ExecuteTime": {
     "end_time": "2019-12-05T06:19:19.048185Z",
     "start_time": "2019-12-05T06:19:19.041936Z"
    },
    "hidden": true
   },
   "outputs": [],
   "source": [
    "cur = conn.cursor()\n",
    "cur.execute('PRAGMA TABLE_INFO({})'.format('crash'))\n",
    "names = [tup for tup in cur.fetchall()]\n",
    "print(names)"
   ]
  },
  {
   "cell_type": "code",
   "execution_count": null,
   "metadata": {
    "ExecuteTime": {
     "end_time": "2019-12-05T06:20:16.282793Z",
     "start_time": "2019-12-05T06:20:16.275408Z"
    },
    "hidden": true
   },
   "outputs": [],
   "source": [
    "cur.execute('PRAGMA TABLE_INFO({})'.format('road'))\n",
    "names = [tup for tup in cur.fetchall()]\n",
    "print(names)"
   ]
  },
  {
   "cell_type": "code",
   "execution_count": null,
   "metadata": {
    "ExecuteTime": {
     "end_time": "2019-12-05T06:27:33.364490Z",
     "start_time": "2019-12-05T06:27:33.309538Z"
    },
    "hidden": true
   },
   "outputs": [],
   "source": [
    "road[(road['ROAD_INV'] == '195') & (road['BEGMP'] < 36) & (road['ENDMP'] > 36)]"
   ]
  },
  {
   "cell_type": "markdown",
   "metadata": {
    "heading_collapsed": true
   },
   "source": [
    "##### XXXX - don't execute - do again in sql with \">=\" and  \"<\" for **crash** and **road**"
   ]
  },
  {
   "cell_type": "markdown",
   "metadata": {
    "heading_collapsed": true
   },
   "source": [
    "##### XXXX - don't execute - do again in sql with \">=\" and  \"<=\" for **crash** and **road**\n",
    "+ Remember **acc_meta** has 55494 records;\n",
    "+ Dataframe **records** has 61765 entries, seems that 61765 - 55494 = 6271 records are duplicated. The reason is that some accidents happen at the seperation points of road segments, i.e. at the milepost that belong to two segments.\n",
    "+ However, checking unique CASENO of accidents, I found that a lot of accidents are filtered if we do a INNER JOIN;\n",
    "+ This means some accidents do not have an associated road segment????"
   ]
  },
  {
   "cell_type": "code",
   "execution_count": null,
   "metadata": {
    "ExecuteTime": {
     "end_time": "2019-12-06T05:37:10.717984Z",
     "start_time": "2019-12-06T05:37:09.752330Z"
    },
    "hidden": true
   },
   "outputs": [],
   "source": [
    "conn = sqlite3.connect(\":memory:\")\n",
    "acc_meta.to_sql(\"crash\", conn, index=False)\n",
    "road.to_sql(\"road\", conn, index=False)"
   ]
  },
  {
   "cell_type": "code",
   "execution_count": null,
   "metadata": {
    "ExecuteTime": {
     "end_time": "2019-12-06T05:37:10.732488Z",
     "start_time": "2019-12-06T05:37:10.720417Z"
    },
    "hidden": true
   },
   "outputs": [],
   "source": [
    "len(acc_meta['CASENO'].unique())"
   ]
  },
  {
   "cell_type": "code",
   "execution_count": null,
   "metadata": {
    "ExecuteTime": {
     "end_time": "2019-12-06T05:39:35.062804Z",
     "start_time": "2019-12-06T05:39:15.297151Z"
    },
    "hidden": true
   },
   "outputs": [],
   "source": [
    "query = \\\n",
    "    \"SELECT * \\\n",
    "    FROM crash LEFT JOIN road ON crash.rd_inv = road.ROAD_INV\\\n",
    "    AND crash.milepost >= road.BEGMP\\\n",
    "    AND crash.milepost <= road.ENDMP\"\n",
    "\n",
    "records = pd.read_sql_query(query, conn)"
   ]
  },
  {
   "cell_type": "markdown",
   "metadata": {
    "heading_collapsed": true,
    "hidden": true
   },
   "source": [
    "###### Using LEFT JOIN everything is better\n",
    "+ Because the CASENO has 55494 unique values, same with **acc_meta**.\n",
    "+ But a lot of crashes do not have an associated road"
   ]
  },
  {
   "cell_type": "code",
   "execution_count": null,
   "metadata": {
    "ExecuteTime": {
     "end_time": "2019-12-06T05:39:35.078963Z",
     "start_time": "2019-12-06T05:39:35.065666Z"
    },
    "hidden": true
   },
   "outputs": [],
   "source": [
    "len(records['CASENO'].unique())"
   ]
  },
  {
   "cell_type": "markdown",
   "metadata": {
    "hidden": true
   },
   "source": [
    "+ As noted, there is a 1729 difference in the key \"ROAD_INV\" in **acc_meta** and **road**. Why?<br>\n",
    "+ Some accident roadways are not in the road file???"
   ]
  },
  {
   "cell_type": "code",
   "execution_count": null,
   "metadata": {
    "ExecuteTime": {
     "end_time": "2019-12-06T05:57:44.839102Z",
     "start_time": "2019-12-06T05:57:44.762491Z"
    },
    "hidden": true
   },
   "outputs": [],
   "source": [
    "len(set(list(records['rd_inv'].unique())) - set(list(records['ROAD_INV'].unique())))"
   ]
  },
  {
   "cell_type": "markdown",
   "metadata": {
    "hidden": true
   },
   "source": [
    "Let's inspect three\n",
    "+ Randomly choose three which are recorded in crashes but not in road inventories;\n",
    "+ Retrieve the crash and road record, respectively;"
   ]
  },
  {
   "cell_type": "code",
   "execution_count": null,
   "metadata": {
    "ExecuteTime": {
     "end_time": "2019-12-06T05:59:58.196944Z",
     "start_time": "2019-12-06T05:59:58.122478Z"
    },
    "hidden": true
   },
   "outputs": [],
   "source": [
    "random.sample(set(list(records['rd_inv'].unique())) - set(list(records['ROAD_INV'].unique())), 3)"
   ]
  },
  {
   "cell_type": "code",
   "execution_count": null,
   "metadata": {
    "ExecuteTime": {
     "end_time": "2019-12-06T06:02:00.384342Z",
     "start_time": "2019-12-06T06:02:00.299735Z"
    },
    "hidden": true
   },
   "outputs": [],
   "source": [
    "records[records['rd_inv'] == '005LX10523']"
   ]
  },
  {
   "cell_type": "markdown",
   "metadata": {
    "heading_collapsed": true,
    "hidden": true
   },
   "source": [
    "###### check what accidents don't have road info"
   ]
  },
  {
   "cell_type": "code",
   "execution_count": null,
   "metadata": {
    "ExecuteTime": {
     "end_time": "2019-12-06T06:04:34.200059Z",
     "start_time": "2019-12-06T06:04:14.850383Z"
    },
    "hidden": true
   },
   "outputs": [],
   "source": [
    "acc_file = './hsis/wa17acc.xlsx'\n",
    "acc = pd.read_excel(acc_file)"
   ]
  },
  {
   "cell_type": "code",
   "execution_count": null,
   "metadata": {
    "ExecuteTime": {
     "end_time": "2019-12-06T06:04:34.256014Z",
     "start_time": "2019-12-06T06:04:34.203032Z"
    },
    "hidden": true
   },
   "outputs": [],
   "source": [
    "acc[acc['rd_inv'] == '005LX10523']"
   ]
  },
  {
   "cell_type": "code",
   "execution_count": null,
   "metadata": {
    "hidden": true
   },
   "outputs": [],
   "source": []
  },
  {
   "cell_type": "markdown",
   "metadata": {},
   "source": [
    "##### YYYY - execute - We still apply the inner join for **crash** and **road**\n",
    "INNER JOIN and then remove duplicates"
   ]
  },
  {
   "cell_type": "code",
   "execution_count": 26,
   "metadata": {
    "ExecuteTime": {
     "end_time": "2019-12-06T20:43:38.998876Z",
     "start_time": "2019-12-06T20:43:38.079396Z"
    }
   },
   "outputs": [],
   "source": [
    "road = road.drop(['RTE_NBR'], axis=1)\n",
    "\n",
    "conn = sqlite3.connect(\":memory:\")\n",
    "acc_meta.to_sql(\"crash\", conn, index=False)\n",
    "road.to_sql(\"road\", conn, index=False)"
   ]
  },
  {
   "cell_type": "code",
   "execution_count": 27,
   "metadata": {
    "ExecuteTime": {
     "end_time": "2019-12-06T20:43:58.801041Z",
     "start_time": "2019-12-06T20:43:39.001452Z"
    }
   },
   "outputs": [],
   "source": [
    "query = \\\n",
    "    \"SELECT * \\\n",
    "    FROM crash, road\\\n",
    "    WHERE crash.rd_inv = road.ROAD_INV\\\n",
    "    AND crash.milepost >= road.BEGMP\\\n",
    "    AND crash.milepost <= road.ENDMP\"\n",
    "\n",
    "records = pd.read_sql_query(query, conn)"
   ]
  },
  {
   "cell_type": "code",
   "execution_count": 28,
   "metadata": {
    "ExecuteTime": {
     "end_time": "2019-12-06T20:43:58.814997Z",
     "start_time": "2019-12-06T20:43:58.804747Z"
    }
   },
   "outputs": [
    {
     "data": {
      "text/plain": [
       "(61983, 37)"
      ]
     },
     "execution_count": 28,
     "metadata": {},
     "output_type": "execute_result"
    }
   ],
   "source": [
    "records.shape"
   ]
  },
  {
   "cell_type": "markdown",
   "metadata": {},
   "source": [
    "##### YYYY - execute - remove the duplicates randomly\n",
    "The final result has 47818 records"
   ]
  },
  {
   "cell_type": "code",
   "execution_count": 29,
   "metadata": {
    "ExecuteTime": {
     "end_time": "2019-12-06T20:44:12.229280Z",
     "start_time": "2019-12-06T20:44:12.115295Z"
    }
   },
   "outputs": [],
   "source": [
    "records = records.sample(frac=1).drop_duplicates(subset='CASENO').sort_index()"
   ]
  },
  {
   "cell_type": "code",
   "execution_count": 30,
   "metadata": {
    "ExecuteTime": {
     "end_time": "2019-12-06T20:44:12.331753Z",
     "start_time": "2019-12-06T20:44:12.323439Z"
    }
   },
   "outputs": [
    {
     "data": {
      "text/plain": [
       "Index(['CASENO', 'FORM_REPT_NO', 'rd_inv', 'milepost', 'RTE_NBR', 'lat', 'lon',\n",
       "       'MONTH', 'DAYMTH', 'WEEKDAY', 'RDSURF', 'LIGHT', 'weather', 'rur_urb',\n",
       "       'REPORT', 'SEVERITY', 'veh_count', 'ROAD_INV', 'BEGMP', 'ENDMP', 'CITY',\n",
       "       'COUNTY', 'AADT', 'mvmt', 'RURURB', 'LSHL_TYP', 'MED_TYPE', 'RSHL_TYP',\n",
       "       'SURF_TYP', 'SPD_LIMT', 'EW_IND', 'LSHLDWID', 'MEDWID', 'RSHLDWID',\n",
       "       'lanewid', 'rdwy_wid', 'NO_LANES'],\n",
       "      dtype='object')"
      ]
     },
     "execution_count": 30,
     "metadata": {},
     "output_type": "execute_result"
    }
   ],
   "source": [
    "records.columns"
   ]
  },
  {
   "cell_type": "markdown",
   "metadata": {},
   "source": [
    "#### YYYY - execute - connect with curve\n",
    "Here we can use left join because no match means zero curvature"
   ]
  },
  {
   "cell_type": "code",
   "execution_count": 31,
   "metadata": {
    "ExecuteTime": {
     "end_time": "2019-12-06T20:44:20.617850Z",
     "start_time": "2019-12-06T20:44:19.643113Z"
    },
    "scrolled": true
   },
   "outputs": [],
   "source": [
    "conn = sqlite3.connect(\":memory:\")\n",
    "records.to_sql(\"records\", conn, index=False)\n",
    "curv.to_sql(\"curv\", conn, index=False)"
   ]
  },
  {
   "cell_type": "code",
   "execution_count": 32,
   "metadata": {
    "ExecuteTime": {
     "end_time": "2019-12-06T20:44:20.623548Z",
     "start_time": "2019-12-06T20:44:20.620417Z"
    }
   },
   "outputs": [],
   "source": [
    "query = \\\n",
    "    \"SELECT * \\\n",
    "    FROM records LEFT JOIN curv ON records.rd_inv = curv.curv_inv\\\n",
    "    AND records.milepost >= curv.begmp\\\n",
    "    AND records.milepost <= curv.endmp\""
   ]
  },
  {
   "cell_type": "code",
   "execution_count": 33,
   "metadata": {
    "ExecuteTime": {
     "end_time": "2019-12-06T20:44:25.355368Z",
     "start_time": "2019-12-06T20:44:20.633854Z"
    }
   },
   "outputs": [],
   "source": [
    "records = pd.read_sql_query(query, conn)"
   ]
  },
  {
   "cell_type": "code",
   "execution_count": 34,
   "metadata": {
    "ExecuteTime": {
     "end_time": "2019-12-06T20:44:25.467409Z",
     "start_time": "2019-12-06T20:44:25.359922Z"
    }
   },
   "outputs": [],
   "source": [
    "records = records.sample(frac=1).drop_duplicates(subset='CASENO').sort_index()\n",
    "records = records.drop(['curv_inv', 'begmp', 'endmp', 'rte_nbr', 'DIR_CURV'], axis=1)"
   ]
  },
  {
   "cell_type": "code",
   "execution_count": 35,
   "metadata": {
    "ExecuteTime": {
     "end_time": "2019-12-06T20:44:25.483002Z",
     "start_time": "2019-12-06T20:44:25.469809Z"
    }
   },
   "outputs": [],
   "source": [
    "records = records.fillna(value={'deg_curv': 0})"
   ]
  },
  {
   "cell_type": "markdown",
   "metadata": {},
   "source": [
    "#### YYYY - execute - connect with grade\n",
    "Can we use LEFT JOIN here?\n",
    "+ LEFT JOIN: can be Nan, which means 0 grade;\n",
    "+ INNER JOIN: must have something"
   ]
  },
  {
   "cell_type": "code",
   "execution_count": 36,
   "metadata": {
    "ExecuteTime": {
     "end_time": "2019-12-06T20:44:26.644555Z",
     "start_time": "2019-12-06T20:44:25.485193Z"
    }
   },
   "outputs": [],
   "source": [
    "conn = sqlite3.connect(\":memory:\")\n",
    "records.to_sql(\"records\", conn, index=False)\n",
    "grad.to_sql(\"grad\", conn, index=False)"
   ]
  },
  {
   "cell_type": "code",
   "execution_count": 37,
   "metadata": {
    "ExecuteTime": {
     "end_time": "2019-12-06T20:44:26.654928Z",
     "start_time": "2019-12-06T20:44:26.648972Z"
    }
   },
   "outputs": [],
   "source": [
    "query = \\\n",
    "    \"SELECT * \\\n",
    "    FROM records LEFT JOIN grad ON records.rd_inv = grad.grad_inv\\\n",
    "    AND records.milepost >= grad.begmp\\\n",
    "    AND records.milepost <= grad.endmp\""
   ]
  },
  {
   "cell_type": "code",
   "execution_count": 38,
   "metadata": {
    "ExecuteTime": {
     "end_time": "2019-12-06T20:44:37.953845Z",
     "start_time": "2019-12-06T20:44:26.658187Z"
    }
   },
   "outputs": [],
   "source": [
    "records = pd.read_sql_query(query, conn)"
   ]
  },
  {
   "cell_type": "code",
   "execution_count": 39,
   "metadata": {
    "ExecuteTime": {
     "end_time": "2019-12-06T20:44:38.073897Z",
     "start_time": "2019-12-06T20:44:37.956775Z"
    }
   },
   "outputs": [],
   "source": [
    "records = records.drop(['grad_inv', 'begmp', 'endmp', 'rte_nbr'], axis=1)\n",
    "records = records.sample(frac=1).drop_duplicates(subset='CASENO').sort_index()"
   ]
  },
  {
   "cell_type": "code",
   "execution_count": 40,
   "metadata": {
    "ExecuteTime": {
     "end_time": "2019-12-06T20:44:38.093775Z",
     "start_time": "2019-12-06T20:44:38.076774Z"
    }
   },
   "outputs": [],
   "source": [
    "records = records.fillna(value={'pct_grad': 0})"
   ]
  },
  {
   "cell_type": "code",
   "execution_count": 41,
   "metadata": {
    "ExecuteTime": {
     "end_time": "2019-12-06T20:44:38.194990Z",
     "start_time": "2019-12-06T20:44:38.096226Z"
    }
   },
   "outputs": [
    {
     "data": {
      "text/html": [
       "<div>\n",
       "<style scoped>\n",
       "    .dataframe tbody tr th:only-of-type {\n",
       "        vertical-align: middle;\n",
       "    }\n",
       "\n",
       "    .dataframe tbody tr th {\n",
       "        vertical-align: top;\n",
       "    }\n",
       "\n",
       "    .dataframe thead th {\n",
       "        text-align: right;\n",
       "    }\n",
       "</style>\n",
       "<table border=\"1\" class=\"dataframe\">\n",
       "  <thead>\n",
       "    <tr style=\"text-align: right;\">\n",
       "      <th></th>\n",
       "      <th>CASENO</th>\n",
       "      <th>FORM_REPT_NO</th>\n",
       "      <th>rd_inv</th>\n",
       "      <th>milepost</th>\n",
       "      <th>RTE_NBR</th>\n",
       "      <th>lat</th>\n",
       "      <th>lon</th>\n",
       "      <th>MONTH</th>\n",
       "      <th>DAYMTH</th>\n",
       "      <th>WEEKDAY</th>\n",
       "      <th>...</th>\n",
       "      <th>EW_IND</th>\n",
       "      <th>LSHLDWID</th>\n",
       "      <th>MEDWID</th>\n",
       "      <th>RSHLDWID</th>\n",
       "      <th>lanewid</th>\n",
       "      <th>rdwy_wid</th>\n",
       "      <th>NO_LANES</th>\n",
       "      <th>deg_curv</th>\n",
       "      <th>dir_grad</th>\n",
       "      <th>pct_grad</th>\n",
       "    </tr>\n",
       "  </thead>\n",
       "  <tbody>\n",
       "    <tr>\n",
       "      <th>0</th>\n",
       "      <td>2017000001</td>\n",
       "      <td>E627527</td>\n",
       "      <td>005</td>\n",
       "      <td>64.13</td>\n",
       "      <td>5</td>\n",
       "      <td>46.484755</td>\n",
       "      <td>-122.879959</td>\n",
       "      <td>1</td>\n",
       "      <td>1</td>\n",
       "      <td>7</td>\n",
       "      <td>...</td>\n",
       "      <td>W</td>\n",
       "      <td>3</td>\n",
       "      <td>40</td>\n",
       "      <td>10</td>\n",
       "      <td>12</td>\n",
       "      <td>48</td>\n",
       "      <td>4</td>\n",
       "      <td>0.00</td>\n",
       "      <td>+</td>\n",
       "      <td>3.00</td>\n",
       "    </tr>\n",
       "    <tr>\n",
       "      <th>1</th>\n",
       "      <td>2017000002</td>\n",
       "      <td>E628124</td>\n",
       "      <td>090</td>\n",
       "      <td>70.58</td>\n",
       "      <td>90</td>\n",
       "      <td>47.228310</td>\n",
       "      <td>-121.163097</td>\n",
       "      <td>1</td>\n",
       "      <td>2</td>\n",
       "      <td>1</td>\n",
       "      <td>...</td>\n",
       "      <td>E</td>\n",
       "      <td>4</td>\n",
       "      <td>78</td>\n",
       "      <td>10</td>\n",
       "      <td>12</td>\n",
       "      <td>48</td>\n",
       "      <td>4</td>\n",
       "      <td>0.00</td>\n",
       "      <td>-</td>\n",
       "      <td>0.15</td>\n",
       "    </tr>\n",
       "    <tr>\n",
       "      <th>2</th>\n",
       "      <td>2017000003</td>\n",
       "      <td>E630351</td>\n",
       "      <td>195</td>\n",
       "      <td>35.95</td>\n",
       "      <td>195</td>\n",
       "      <td>46.879918</td>\n",
       "      <td>-117.364820</td>\n",
       "      <td>1</td>\n",
       "      <td>9</td>\n",
       "      <td>1</td>\n",
       "      <td>...</td>\n",
       "      <td>E</td>\n",
       "      <td>0</td>\n",
       "      <td>0</td>\n",
       "      <td>0</td>\n",
       "      <td>14</td>\n",
       "      <td>56</td>\n",
       "      <td>4</td>\n",
       "      <td>0.00</td>\n",
       "      <td>-</td>\n",
       "      <td>0.49</td>\n",
       "    </tr>\n",
       "    <tr>\n",
       "      <th>3</th>\n",
       "      <td>2017000004</td>\n",
       "      <td>E633194</td>\n",
       "      <td>270</td>\n",
       "      <td>3.13</td>\n",
       "      <td>270</td>\n",
       "      <td>46.726902</td>\n",
       "      <td>-117.168536</td>\n",
       "      <td>1</td>\n",
       "      <td>9</td>\n",
       "      <td>1</td>\n",
       "      <td>...</td>\n",
       "      <td>E</td>\n",
       "      <td>0</td>\n",
       "      <td>0</td>\n",
       "      <td>0</td>\n",
       "      <td>18</td>\n",
       "      <td>72</td>\n",
       "      <td>4</td>\n",
       "      <td>0.00</td>\n",
       "      <td>+</td>\n",
       "      <td>3.86</td>\n",
       "    </tr>\n",
       "    <tr>\n",
       "      <th>4</th>\n",
       "      <td>2017000005</td>\n",
       "      <td>E632431</td>\n",
       "      <td>014</td>\n",
       "      <td>139.99</td>\n",
       "      <td>14</td>\n",
       "      <td>45.787757</td>\n",
       "      <td>-120.099029</td>\n",
       "      <td>1</td>\n",
       "      <td>14</td>\n",
       "      <td>6</td>\n",
       "      <td>...</td>\n",
       "      <td>E</td>\n",
       "      <td>7</td>\n",
       "      <td>0</td>\n",
       "      <td>7</td>\n",
       "      <td>12</td>\n",
       "      <td>24</td>\n",
       "      <td>2</td>\n",
       "      <td>0.00</td>\n",
       "      <td>+</td>\n",
       "      <td>0.00</td>\n",
       "    </tr>\n",
       "    <tr>\n",
       "      <th>...</th>\n",
       "      <td>...</td>\n",
       "      <td>...</td>\n",
       "      <td>...</td>\n",
       "      <td>...</td>\n",
       "      <td>...</td>\n",
       "      <td>...</td>\n",
       "      <td>...</td>\n",
       "      <td>...</td>\n",
       "      <td>...</td>\n",
       "      <td>...</td>\n",
       "      <td>...</td>\n",
       "      <td>...</td>\n",
       "      <td>...</td>\n",
       "      <td>...</td>\n",
       "      <td>...</td>\n",
       "      <td>...</td>\n",
       "      <td>...</td>\n",
       "      <td>...</td>\n",
       "      <td>...</td>\n",
       "      <td>...</td>\n",
       "      <td>...</td>\n",
       "    </tr>\n",
       "    <tr>\n",
       "      <th>50889</th>\n",
       "      <td>2017055645</td>\n",
       "      <td>E774350</td>\n",
       "      <td>005</td>\n",
       "      <td>127.45</td>\n",
       "      <td>5</td>\n",
       "      <td>47.436457</td>\n",
       "      <td>-122.335086</td>\n",
       "      <td>12</td>\n",
       "      <td>15</td>\n",
       "      <td>5</td>\n",
       "      <td>...</td>\n",
       "      <td>W</td>\n",
       "      <td>0</td>\n",
       "      <td>16</td>\n",
       "      <td>10</td>\n",
       "      <td>12</td>\n",
       "      <td>96</td>\n",
       "      <td>8</td>\n",
       "      <td>0.00</td>\n",
       "      <td>+</td>\n",
       "      <td>1.69</td>\n",
       "    </tr>\n",
       "    <tr>\n",
       "      <th>50890</th>\n",
       "      <td>2017055647</td>\n",
       "      <td>E774336</td>\n",
       "      <td>005</td>\n",
       "      <td>134.98</td>\n",
       "      <td>5</td>\n",
       "      <td>47.221556</td>\n",
       "      <td>-122.463305</td>\n",
       "      <td>12</td>\n",
       "      <td>16</td>\n",
       "      <td>6</td>\n",
       "      <td>...</td>\n",
       "      <td>W</td>\n",
       "      <td>0</td>\n",
       "      <td>16</td>\n",
       "      <td>10</td>\n",
       "      <td>12</td>\n",
       "      <td>84</td>\n",
       "      <td>7</td>\n",
       "      <td>0.82</td>\n",
       "      <td>-</td>\n",
       "      <td>1.78</td>\n",
       "    </tr>\n",
       "    <tr>\n",
       "      <th>50891</th>\n",
       "      <td>2017055648</td>\n",
       "      <td>E774338</td>\n",
       "      <td>005</td>\n",
       "      <td>130.74</td>\n",
       "      <td>5</td>\n",
       "      <td>47.376333</td>\n",
       "      <td>-122.299836</td>\n",
       "      <td>12</td>\n",
       "      <td>16</td>\n",
       "      <td>6</td>\n",
       "      <td>...</td>\n",
       "      <td>W</td>\n",
       "      <td>0</td>\n",
       "      <td>16</td>\n",
       "      <td>10</td>\n",
       "      <td>12</td>\n",
       "      <td>96</td>\n",
       "      <td>8</td>\n",
       "      <td>0.00</td>\n",
       "      <td>-</td>\n",
       "      <td>0.20</td>\n",
       "    </tr>\n",
       "    <tr>\n",
       "      <th>50892</th>\n",
       "      <td>2017055650</td>\n",
       "      <td>E774290</td>\n",
       "      <td>005</td>\n",
       "      <td>133.86</td>\n",
       "      <td>5</td>\n",
       "      <td>47.467451</td>\n",
       "      <td>-122.223553</td>\n",
       "      <td>12</td>\n",
       "      <td>18</td>\n",
       "      <td>1</td>\n",
       "      <td>...</td>\n",
       "      <td>W</td>\n",
       "      <td>0</td>\n",
       "      <td>16</td>\n",
       "      <td>0</td>\n",
       "      <td>16</td>\n",
       "      <td>109</td>\n",
       "      <td>7</td>\n",
       "      <td>0.00</td>\n",
       "      <td>-</td>\n",
       "      <td>3.00</td>\n",
       "    </tr>\n",
       "    <tr>\n",
       "      <th>50893</th>\n",
       "      <td>2017055651</td>\n",
       "      <td>E753113</td>\n",
       "      <td>082</td>\n",
       "      <td>117.47</td>\n",
       "      <td>82</td>\n",
       "      <td>47.690419</td>\n",
       "      <td>-122.329219</td>\n",
       "      <td>12</td>\n",
       "      <td>28</td>\n",
       "      <td>4</td>\n",
       "      <td>...</td>\n",
       "      <td>E</td>\n",
       "      <td>4</td>\n",
       "      <td>76</td>\n",
       "      <td>10</td>\n",
       "      <td>12</td>\n",
       "      <td>48</td>\n",
       "      <td>4</td>\n",
       "      <td>0.00</td>\n",
       "      <td>+</td>\n",
       "      <td>2.44</td>\n",
       "    </tr>\n",
       "  </tbody>\n",
       "</table>\n",
       "<p>47818 rows × 40 columns</p>\n",
       "</div>"
      ],
      "text/plain": [
       "           CASENO FORM_REPT_NO rd_inv  milepost  RTE_NBR        lat  \\\n",
       "0      2017000001      E627527    005     64.13        5  46.484755   \n",
       "1      2017000002      E628124    090     70.58       90  47.228310   \n",
       "2      2017000003      E630351    195     35.95      195  46.879918   \n",
       "3      2017000004      E633194    270      3.13      270  46.726902   \n",
       "4      2017000005      E632431    014    139.99       14  45.787757   \n",
       "...           ...          ...    ...       ...      ...        ...   \n",
       "50889  2017055645      E774350    005    127.45        5  47.436457   \n",
       "50890  2017055647      E774336    005    134.98        5  47.221556   \n",
       "50891  2017055648      E774338    005    130.74        5  47.376333   \n",
       "50892  2017055650      E774290    005    133.86        5  47.467451   \n",
       "50893  2017055651      E753113    082    117.47       82  47.690419   \n",
       "\n",
       "              lon  MONTH  DAYMTH  WEEKDAY  ...  EW_IND  LSHLDWID MEDWID  \\\n",
       "0     -122.879959      1       1        7  ...       W         3     40   \n",
       "1     -121.163097      1       2        1  ...       E         4     78   \n",
       "2     -117.364820      1       9        1  ...       E         0      0   \n",
       "3     -117.168536      1       9        1  ...       E         0      0   \n",
       "4     -120.099029      1      14        6  ...       E         7      0   \n",
       "...           ...    ...     ...      ...  ...     ...       ...    ...   \n",
       "50889 -122.335086     12      15        5  ...       W         0     16   \n",
       "50890 -122.463305     12      16        6  ...       W         0     16   \n",
       "50891 -122.299836     12      16        6  ...       W         0     16   \n",
       "50892 -122.223553     12      18        1  ...       W         0     16   \n",
       "50893 -122.329219     12      28        4  ...       E         4     76   \n",
       "\n",
       "      RSHLDWID  lanewid  rdwy_wid  NO_LANES deg_curv  dir_grad  pct_grad  \n",
       "0           10       12        48         4     0.00         +      3.00  \n",
       "1           10       12        48         4     0.00         -      0.15  \n",
       "2            0       14        56         4     0.00         -      0.49  \n",
       "3            0       18        72         4     0.00         +      3.86  \n",
       "4            7       12        24         2     0.00         +      0.00  \n",
       "...        ...      ...       ...       ...      ...       ...       ...  \n",
       "50889       10       12        96         8     0.00         +      1.69  \n",
       "50890       10       12        84         7     0.82         -      1.78  \n",
       "50891       10       12        96         8     0.00         -      0.20  \n",
       "50892        0       16       109         7     0.00         -      3.00  \n",
       "50893       10       12        48         4     0.00         +      2.44  \n",
       "\n",
       "[47818 rows x 40 columns]"
      ]
     },
     "execution_count": 41,
     "metadata": {},
     "output_type": "execute_result"
    }
   ],
   "source": [
    "records"
   ]
  },
  {
   "cell_type": "code",
   "execution_count": 42,
   "metadata": {
    "ExecuteTime": {
     "end_time": "2019-12-06T20:44:39.738385Z",
     "start_time": "2019-12-06T20:44:38.198996Z"
    }
   },
   "outputs": [],
   "source": [
    "records.to_csv('meta_merged.csv')"
   ]
  },
  {
   "cell_type": "code",
   "execution_count": null,
   "metadata": {},
   "outputs": [],
   "source": []
  },
  {
   "cell_type": "markdown",
   "metadata": {
    "heading_collapsed": true
   },
   "source": [
    "### auto - conversion\n",
    "but too slow"
   ]
  },
  {
   "cell_type": "code",
   "execution_count": 47,
   "metadata": {
    "ExecuteTime": {
     "end_time": "2019-12-07T03:39:33.508939Z",
     "start_time": "2019-12-07T03:39:33.485741Z"
    },
    "hidden": true
   },
   "outputs": [],
   "source": [
    "acc = acc.dropna(subset=['X_full', 'Y_full']).reset_index()"
   ]
  },
  {
   "cell_type": "code",
   "execution_count": 48,
   "metadata": {
    "ExecuteTime": {
     "end_time": "2019-12-07T03:39:33.697375Z",
     "start_time": "2019-12-07T03:39:33.687227Z"
    },
    "hidden": true
   },
   "outputs": [],
   "source": [
    "acc['lat'] = None\n",
    "acc['lng'] = None"
   ]
  },
  {
   "cell_type": "code",
   "execution_count": 55,
   "metadata": {
    "ExecuteTime": {
     "end_time": "2019-12-07T03:46:09.273188Z",
     "start_time": "2019-12-07T03:45:46.379752Z"
    },
    "hidden": true
   },
   "outputs": [
    {
     "name": "stdout",
     "output_type": "stream",
     "text": [
      "22.88\n"
     ]
    }
   ],
   "source": [
    "start = time.time()\n",
    "for index, row in acc.iterrows():\n",
    "    north = row['Y_full']\n",
    "    east = row['X_full']\n",
    "    \n",
    "    j = !java -Dparms=spc,4602,$north,$east,usft,\"NAD83(2011)\",\"NAD83(2011)\",\"auto\",\"N/A\" -jar ./ncat/jtransform_thin.jar\n",
    "    lat, lng = j[7][:-1].split(':')[-1][1:-1], j[12][:-1].split(':')[-1][1:-1]\n",
    "    row['lat'] = lat\n",
    "    row['lng'] = lng\n",
    "    \n",
    "    if index == 100:\n",
    "        break\n",
    "print(\"{:.2f}\".format(time.time() - start))"
   ]
  },
  {
   "cell_type": "code",
   "execution_count": null,
   "metadata": {
    "hidden": true
   },
   "outputs": [],
   "source": []
  }
 ],
 "metadata": {
  "kernelspec": {
   "display_name": "Python 3",
   "language": "python",
   "name": "python3"
  },
  "language_info": {
   "codemirror_mode": {
    "name": "ipython",
    "version": 3
   },
   "file_extension": ".py",
   "mimetype": "text/x-python",
   "name": "python",
   "nbconvert_exporter": "python",
   "pygments_lexer": "ipython3",
   "version": "3.6.2"
  }
 },
 "nbformat": 4,
 "nbformat_minor": 2
}
