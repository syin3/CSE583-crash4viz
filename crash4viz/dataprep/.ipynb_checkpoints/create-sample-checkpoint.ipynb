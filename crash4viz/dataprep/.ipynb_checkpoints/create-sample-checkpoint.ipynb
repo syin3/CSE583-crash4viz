{
 "cells": [
  {
   "cell_type": "code",
   "execution_count": null,
   "metadata": {},
   "outputs": [],
   "source": [
    "'''\n",
    "create-sample.py\n",
    "create sample test data\n",
    "'''"
   ]
  },
  {
   "cell_type": "code",
   "execution_count": 1,
   "metadata": {
    "ExecuteTime": {
     "end_time": "2019-12-08T01:37:40.200750Z",
     "start_time": "2019-12-08T01:37:39.698600Z"
    }
   },
   "outputs": [],
   "source": [
    "import os\n",
    "import pandas as pd"
   ]
  },
  {
   "cell_type": "markdown",
   "metadata": {},
   "source": [
    "### load, sample and save"
   ]
  },
  {
   "cell_type": "code",
   "execution_count": 2,
   "metadata": {
    "ExecuteTime": {
     "end_time": "2019-12-08T01:37:40.226224Z",
     "start_time": "2019-12-08T01:37:40.203590Z"
    }
   },
   "outputs": [],
   "source": [
    "columns = ['CASENO','FORM_REPT_NO','rd_inv','milepost','RTE_NBR','lat','lon','MONTH','DAYMTH','WEEKDAY','RDSURF','LIGHT',\n",
    " 'weather','rur_urb','REPORT','SEVERITY','veh_count','LSHL_TYP','MED_TYPE','RD_LIGHT','RSHL_TYP','RURURB','SURF_TYP','EW_IND',\n",
    " 'COUNTY','FUNC_CLS','CITY','ROAD_INV','SPD_LIMT','BEGMP','ENDMP','ACSEQ_NB','LSHLDWID','MEDWID','NO_LANES','RSHLDWID','lanewid',\n",
    " 'rdwy_wid','AADT','mvmt','deg_curv','dir_grad','pct_grad']\n",
    "df = pd.DataFrame(columns=columns)"
   ]
  },
  {
   "cell_type": "code",
   "execution_count": 3,
   "metadata": {
    "ExecuteTime": {
     "end_time": "2019-12-08T01:37:40.768806Z",
     "start_time": "2019-12-08T01:37:40.232732Z"
    }
   },
   "outputs": [],
   "source": [
    "mydir = '../../data/crash-merged/'\n",
    "for file in os.listdir(mydir):\n",
    "    if file.endswith(\".csv\"):\n",
    "        tmp = pd.read_csv(mydir + file)\n",
    "        tmp = tmp.sample(n = 500, random_state=0)\n",
    "        df = df.append(tmp).reset_index(drop=True)"
   ]
  },
  {
   "cell_type": "code",
   "execution_count": 4,
   "metadata": {
    "ExecuteTime": {
     "end_time": "2019-12-08T01:37:40.848208Z",
     "start_time": "2019-12-08T01:37:40.771765Z"
    }
   },
   "outputs": [],
   "source": [
    "df.to_csv('../tests/test-data/sample.csv', index=False)"
   ]
  },
  {
   "cell_type": "code",
   "execution_count": null,
   "metadata": {},
   "outputs": [],
   "source": []
  }
 ],
 "metadata": {
  "kernelspec": {
   "display_name": "Python 3",
   "language": "python",
   "name": "python3"
  },
  "language_info": {
   "codemirror_mode": {
    "name": "ipython",
    "version": 3
   },
   "file_extension": ".py",
   "mimetype": "text/x-python",
   "name": "python",
   "nbconvert_exporter": "python",
   "pygments_lexer": "ipython3",
   "version": "3.6.2"
  }
 },
 "nbformat": 4,
 "nbformat_minor": 2
}
